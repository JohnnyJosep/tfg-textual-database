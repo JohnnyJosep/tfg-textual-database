{
 "cells": [
  {
   "cell_type": "markdown",
   "metadata": {
    "collapsed": false,
    "pycharm": {
     "name": "#%% md\n"
    }
   },
   "source": [
    "# Indexació"
   ]
  },
  {
   "cell_type": "code",
   "execution_count": null,
   "metadata": {
    "pycharm": {
     "name": "#%%\n"
    }
   },
   "outputs": [],
   "source": [
    "from os import listdir\n",
    "from json import loads as json_loads, dumps as json_dumps\n",
    "import requests\n",
    "\n",
    "from urllib3.exceptions import InsecureRequestWarning\n",
    "\n",
    "# Suppress only the single warning from urllib3 needed.\n",
    "requests.packages.urllib3.disable_warnings(category=InsecureRequestWarning)\n",
    "\n",
    "\n",
    "speeches_search_system_api = 'https://localhost:55893/api/Speech'\n",
    "data_folder = './.data/'\n",
    "speeches_folder_path = f'{data_folder}speeches_to_index'"
   ]
  },
  {
   "cell_type": "code",
   "execution_count": null,
   "metadata": {
    "pycharm": {
     "name": "#%%\n"
    }
   },
   "outputs": [],
   "source": [
    "def post_speech(speech_path):\n",
    "    with open(speech_path, 'r', encoding='utf8') as file:\n",
    "        data = json_loads(file.read())\n",
    "\n",
    "        speech = {\n",
    "            'title': data['title'],\n",
    "            'text': data['text'].strip().replace('\\n', ''),\n",
    "            'celebrated_at': data['date'],\n",
    "            'source_type': data['source'],\n",
    "            'source_legislature': data['legislature'],\n",
    "            'source_session': data['session'],\n",
    "            'source_order': data['order'],\n",
    "            'author_name': data['name'],\n",
    "            'author_surname': data['surname'],\n",
    "            'author_gender': data['gender'],\n",
    "            'author_group': data['group'],\n",
    "            'author_formation': data['acronym'],\n",
    "            'total_interruptions': 0,\n",
    "            'interruptions': []\n",
    "        }\n",
    "        headers = {\n",
    "            'Content-Type': 'application/json'\n",
    "        }\n",
    "\n",
    "        if 'interruptions' in data:\n",
    "            speech['interruptions'] = [interruption['text'] for interruption in data['interruptions']]\n",
    "            speech['total_interruptions'] = len(speech['interruptions'])\n",
    "\n",
    "        payload = json_dumps(speech, indent=4)\n",
    "\n",
    "        # response = requests.request(\n",
    "        #     'POST',\n",
    "        #     speeches_search_system_api,\n",
    "        #     headers=headers,\n",
    "        #     data=payload,\n",
    "        #     verify=False\n",
    "        # )\n",
    "        # if response.status_code != 200:\n",
    "        #     print(f'{response.status_code}\\n\\t{response.text}\\n\\t{path}\\n---------')\n",
    "\n",
    "\n",
    "speeches_files = sorted(listdir(speeches_folder_path))\n",
    "for speech_file in speeches_files:\n",
    "    path = f'{speeches_folder_path}/{speech_file}'\n",
    "    post_speech(path)\n"
   ]
  },
  {
   "cell_type": "code",
   "execution_count": null,
   "metadata": {
    "pycharm": {
     "name": "#%%\n"
    }
   },
   "outputs": [],
   "source": []
  }
 ],
 "metadata": {
  "kernelspec": {
   "display_name": "Python 3",
   "language": "python",
   "name": "python3"
  },
  "language_info": {
   "codemirror_mode": {
    "name": "ipython",
    "version": 2
   },
   "file_extension": ".py",
   "mimetype": "text/x-python",
   "name": "python",
   "nbconvert_exporter": "python",
   "pygments_lexer": "ipython2",
   "version": "2.7.6"
  }
 },
 "nbformat": 4,
 "nbformat_minor": 0
}
