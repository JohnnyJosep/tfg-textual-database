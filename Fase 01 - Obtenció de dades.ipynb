{
 "cells": [
  {
   "cell_type": "markdown",
   "source": [
    "# Fase 01 - Obtenció de dades"
   ],
   "metadata": {
    "collapsed": false,
    "pycharm": {
     "name": "#%% md\n"
    }
   }
  },
  {
   "cell_type": "code",
   "execution_count": 8,
   "outputs": [],
   "source": [
    "from downloadDiaryOfSessions.main import download\n",
    "from googleSync.main import sync_folder\n",
    "\n",
    "import json\n",
    "from os.path import basename, isdir, isfile\n",
    "from os import listdir, makedirs\n",
    "import pandas as pd\n",
    "from pandas import json_normalize\n",
    "from pdf2image import convert_from_path\n",
    "import requests\n",
    "import subprocess"
   ],
   "metadata": {
    "collapsed": false,
    "pycharm": {
     "name": "#%%\n"
    }
   }
  },
  {
   "cell_type": "markdown",
   "source": [
    "## 1.- Descarregar diaris de sessions"
   ],
   "metadata": {
    "collapsed": false,
    "pycharm": {
     "name": "#%% md\n"
    }
   }
  },
  {
   "cell_type": "code",
   "execution_count": 9,
   "outputs": [
    {
     "name": "stderr",
     "output_type": "stream",
     "text": [
      "usage: ipykernel_launcher.py [--auth_host_name AUTH_HOST_NAME]\n",
      "                             [--noauth_local_webserver]\n",
      "                             [--auth_host_port [AUTH_HOST_PORT ...]]\n",
      "                             [--logging_level {DEBUG,INFO,WARNING,ERROR,CRITICAL}]\n",
      "ipykernel_launcher.py: error: unrecognized arguments: -f C:\\Users\\jjescandell\\AppData\\Roaming\\jupyter\\runtime\\kernel-c7d79c7d-02c9-400e-8778-6799763f7be5.json\n"
     ]
    },
    {
     "ename": "SystemExit",
     "evalue": "2",
     "output_type": "error",
     "traceback": [
      "An exception has occurred, use %tb to see the full traceback.\n",
      "\u001B[1;31mSystemExit\u001B[0m\u001B[1;31m:\u001B[0m 2\n"
     ]
    },
    {
     "name": "stderr",
     "output_type": "stream",
     "text": [
      "C:\\Users\\jjescandell\\Anaconda3\\envs\\tfg-22-env\\lib\\site-packages\\IPython\\core\\interactiveshell.py:3406: UserWarning: To exit: use 'exit', 'quit', or Ctrl-D.\n",
      "  warn(\"To exit: use 'exit', 'quit', or Ctrl-D.\", stacklevel=1)\n"
     ]
    }
   ],
   "source": [
    "sync_folder('.data', 'TFG-DATA')"
   ],
   "metadata": {
    "collapsed": false,
    "pycharm": {
     "name": "#%%\n"
    }
   }
  },
  {
   "cell_type": "code",
   "execution_count": 3,
   "outputs": [],
   "source": [
    "legislatures = [11, 12, 13, 14]\n",
    "max_errors = 50\n",
    "dscd_path = './.data/diary_session_congress_deputies_pdfs'\n",
    "dss_path = './.data/diary_session_senate_pdfs'\n",
    "\n",
    "def diary_session_congress_deputies_url(legislature, plenary):\n",
    "    return f\"https://www.congreso.es/public_oficiales/L{legislature}/CONG/DS/PL/DSCD-{legislature}-PL-{plenary}.PDF\"\n",
    "\n",
    "def diary_session_senate_url(legislature, plenary):\n",
    "    return f\"https://www.senado.es/legis{legislature}/publicaciones/pdf/senado/ds/DS_C_{legislature}_{plenary}.PDF\""
   ],
   "metadata": {
    "collapsed": false,
    "pycharm": {
     "name": "#%%\n"
    }
   }
  },
  {
   "cell_type": "markdown",
   "source": [
    "### 1.1.- Diaris de sessions del congress de diputats"
   ],
   "metadata": {
    "collapsed": false,
    "pycharm": {
     "name": "#%% md\n"
    }
   }
  },
  {
   "cell_type": "code",
   "execution_count": 3,
   "outputs": [],
   "source": [
    "if not isdir(dscd_path):\n",
    "    makedirs(dscd_path)\n",
    "\n",
    "for current_legislature in legislatures:\n",
    "    current_plenary = 1\n",
    "    consecutive_errors = 0\n",
    "    while consecutive_errors < max_errors:\n",
    "        url = diary_session_congress_deputies_url(current_legislature, current_plenary)\n",
    "        file = f\"dscd-{current_legislature}-{current_plenary:03d}\"\n",
    "        if download(url, dscd_path, file):\n",
    "            consecutive_errors = 0\n",
    "        else:\n",
    "            consecutive_errors += 1\n",
    "\n",
    "        current_plenary += 1"
   ],
   "metadata": {
    "collapsed": false,
    "pycharm": {
     "name": "#%%\n"
    }
   }
  },
  {
   "cell_type": "markdown",
   "source": [
    "### 1.2.- Diaris de sessions del senat"
   ],
   "metadata": {
    "collapsed": false,
    "pycharm": {
     "name": "#%% md\n"
    }
   }
  },
  {
   "cell_type": "code",
   "execution_count": 4,
   "outputs": [],
   "source": [
    "if not isdir(dss_path):\n",
    "    makedirs(dss_path)\n",
    "\n",
    "for current_legislature in legislatures:\n",
    "    current_plenary = 1\n",
    "    consecutive_errors = 0\n",
    "    while consecutive_errors < max_errors:\n",
    "        url = diary_session_senate_url(current_legislature, current_plenary)\n",
    "        file = f\"dss-{current_legislature}-{current_plenary:03d}\"\n",
    "        if download(url, dss_path, file):\n",
    "            consecutive_errors = 0\n",
    "        else:\n",
    "            consecutive_errors += 1\n",
    "\n",
    "        current_plenary += 1"
   ],
   "metadata": {
    "collapsed": false,
    "pycharm": {
     "name": "#%%\n"
    }
   }
  },
  {
   "cell_type": "markdown",
   "source": [
    "## 2.- Convertir pagines de pdf a imatges"
   ],
   "metadata": {
    "collapsed": false,
    "pycharm": {
     "name": "#%% md\n"
    }
   }
  },
  {
   "cell_type": "code",
   "execution_count": 4,
   "outputs": [
    {
     "ename": "PDFInfoNotInstalledError",
     "evalue": "Unable to get page count. Is poppler installed and in PATH?",
     "output_type": "error",
     "traceback": [
      "\u001B[1;31m---------------------------------------------------------------------------\u001B[0m",
      "\u001B[1;31mFileNotFoundError\u001B[0m                         Traceback (most recent call last)",
      "File \u001B[1;32m~\\Anaconda3\\envs\\tfg-22-env\\lib\\site-packages\\pdf2image\\pdf2image.py:458\u001B[0m, in \u001B[0;36mpdfinfo_from_path\u001B[1;34m(pdf_path, userpw, poppler_path, rawdates, timeout)\u001B[0m\n\u001B[0;32m    457\u001B[0m     env[\u001B[38;5;124m\"\u001B[39m\u001B[38;5;124mLD_LIBRARY_PATH\u001B[39m\u001B[38;5;124m\"\u001B[39m] \u001B[38;5;241m=\u001B[39m poppler_path \u001B[38;5;241m+\u001B[39m \u001B[38;5;124m\"\u001B[39m\u001B[38;5;124m:\u001B[39m\u001B[38;5;124m\"\u001B[39m \u001B[38;5;241m+\u001B[39m env\u001B[38;5;241m.\u001B[39mget(\u001B[38;5;124m\"\u001B[39m\u001B[38;5;124mLD_LIBRARY_PATH\u001B[39m\u001B[38;5;124m\"\u001B[39m, \u001B[38;5;124m\"\u001B[39m\u001B[38;5;124m\"\u001B[39m)\n\u001B[1;32m--> 458\u001B[0m proc \u001B[38;5;241m=\u001B[39m \u001B[43mPopen\u001B[49m\u001B[43m(\u001B[49m\u001B[43mcommand\u001B[49m\u001B[43m,\u001B[49m\u001B[43m \u001B[49m\u001B[43menv\u001B[49m\u001B[38;5;241;43m=\u001B[39;49m\u001B[43menv\u001B[49m\u001B[43m,\u001B[49m\u001B[43m \u001B[49m\u001B[43mstdout\u001B[49m\u001B[38;5;241;43m=\u001B[39;49m\u001B[43mPIPE\u001B[49m\u001B[43m,\u001B[49m\u001B[43m \u001B[49m\u001B[43mstderr\u001B[49m\u001B[38;5;241;43m=\u001B[39;49m\u001B[43mPIPE\u001B[49m\u001B[43m)\u001B[49m\n\u001B[0;32m    460\u001B[0m \u001B[38;5;28;01mtry\u001B[39;00m:\n",
      "File \u001B[1;32m~\\Anaconda3\\envs\\tfg-22-env\\lib\\subprocess.py:951\u001B[0m, in \u001B[0;36mPopen.__init__\u001B[1;34m(self, args, bufsize, executable, stdin, stdout, stderr, preexec_fn, close_fds, shell, cwd, env, universal_newlines, startupinfo, creationflags, restore_signals, start_new_session, pass_fds, user, group, extra_groups, encoding, errors, text, umask)\u001B[0m\n\u001B[0;32m    948\u001B[0m             \u001B[38;5;28mself\u001B[39m\u001B[38;5;241m.\u001B[39mstderr \u001B[38;5;241m=\u001B[39m io\u001B[38;5;241m.\u001B[39mTextIOWrapper(\u001B[38;5;28mself\u001B[39m\u001B[38;5;241m.\u001B[39mstderr,\n\u001B[0;32m    949\u001B[0m                     encoding\u001B[38;5;241m=\u001B[39mencoding, errors\u001B[38;5;241m=\u001B[39merrors)\n\u001B[1;32m--> 951\u001B[0m     \u001B[38;5;28;43mself\u001B[39;49m\u001B[38;5;241;43m.\u001B[39;49m\u001B[43m_execute_child\u001B[49m\u001B[43m(\u001B[49m\u001B[43margs\u001B[49m\u001B[43m,\u001B[49m\u001B[43m \u001B[49m\u001B[43mexecutable\u001B[49m\u001B[43m,\u001B[49m\u001B[43m \u001B[49m\u001B[43mpreexec_fn\u001B[49m\u001B[43m,\u001B[49m\u001B[43m \u001B[49m\u001B[43mclose_fds\u001B[49m\u001B[43m,\u001B[49m\n\u001B[0;32m    952\u001B[0m \u001B[43m                        \u001B[49m\u001B[43mpass_fds\u001B[49m\u001B[43m,\u001B[49m\u001B[43m \u001B[49m\u001B[43mcwd\u001B[49m\u001B[43m,\u001B[49m\u001B[43m \u001B[49m\u001B[43menv\u001B[49m\u001B[43m,\u001B[49m\n\u001B[0;32m    953\u001B[0m \u001B[43m                        \u001B[49m\u001B[43mstartupinfo\u001B[49m\u001B[43m,\u001B[49m\u001B[43m \u001B[49m\u001B[43mcreationflags\u001B[49m\u001B[43m,\u001B[49m\u001B[43m \u001B[49m\u001B[43mshell\u001B[49m\u001B[43m,\u001B[49m\n\u001B[0;32m    954\u001B[0m \u001B[43m                        \u001B[49m\u001B[43mp2cread\u001B[49m\u001B[43m,\u001B[49m\u001B[43m \u001B[49m\u001B[43mp2cwrite\u001B[49m\u001B[43m,\u001B[49m\n\u001B[0;32m    955\u001B[0m \u001B[43m                        \u001B[49m\u001B[43mc2pread\u001B[49m\u001B[43m,\u001B[49m\u001B[43m \u001B[49m\u001B[43mc2pwrite\u001B[49m\u001B[43m,\u001B[49m\n\u001B[0;32m    956\u001B[0m \u001B[43m                        \u001B[49m\u001B[43merrread\u001B[49m\u001B[43m,\u001B[49m\u001B[43m \u001B[49m\u001B[43merrwrite\u001B[49m\u001B[43m,\u001B[49m\n\u001B[0;32m    957\u001B[0m \u001B[43m                        \u001B[49m\u001B[43mrestore_signals\u001B[49m\u001B[43m,\u001B[49m\n\u001B[0;32m    958\u001B[0m \u001B[43m                        \u001B[49m\u001B[43mgid\u001B[49m\u001B[43m,\u001B[49m\u001B[43m \u001B[49m\u001B[43mgids\u001B[49m\u001B[43m,\u001B[49m\u001B[43m \u001B[49m\u001B[43muid\u001B[49m\u001B[43m,\u001B[49m\u001B[43m \u001B[49m\u001B[43mumask\u001B[49m\u001B[43m,\u001B[49m\n\u001B[0;32m    959\u001B[0m \u001B[43m                        \u001B[49m\u001B[43mstart_new_session\u001B[49m\u001B[43m)\u001B[49m\n\u001B[0;32m    960\u001B[0m \u001B[38;5;28;01mexcept\u001B[39;00m:\n\u001B[0;32m    961\u001B[0m     \u001B[38;5;66;03m# Cleanup if the child failed starting.\u001B[39;00m\n",
      "File \u001B[1;32m~\\Anaconda3\\envs\\tfg-22-env\\lib\\subprocess.py:1420\u001B[0m, in \u001B[0;36mPopen._execute_child\u001B[1;34m(self, args, executable, preexec_fn, close_fds, pass_fds, cwd, env, startupinfo, creationflags, shell, p2cread, p2cwrite, c2pread, c2pwrite, errread, errwrite, unused_restore_signals, unused_gid, unused_gids, unused_uid, unused_umask, unused_start_new_session)\u001B[0m\n\u001B[0;32m   1419\u001B[0m \u001B[38;5;28;01mtry\u001B[39;00m:\n\u001B[1;32m-> 1420\u001B[0m     hp, ht, pid, tid \u001B[38;5;241m=\u001B[39m \u001B[43m_winapi\u001B[49m\u001B[38;5;241;43m.\u001B[39;49m\u001B[43mCreateProcess\u001B[49m\u001B[43m(\u001B[49m\u001B[43mexecutable\u001B[49m\u001B[43m,\u001B[49m\u001B[43m \u001B[49m\u001B[43margs\u001B[49m\u001B[43m,\u001B[49m\n\u001B[0;32m   1421\u001B[0m \u001B[43m                             \u001B[49m\u001B[38;5;66;43;03m# no special security\u001B[39;49;00m\n\u001B[0;32m   1422\u001B[0m \u001B[43m                             \u001B[49m\u001B[38;5;28;43;01mNone\u001B[39;49;00m\u001B[43m,\u001B[49m\u001B[43m \u001B[49m\u001B[38;5;28;43;01mNone\u001B[39;49;00m\u001B[43m,\u001B[49m\n\u001B[0;32m   1423\u001B[0m \u001B[43m                             \u001B[49m\u001B[38;5;28;43mint\u001B[39;49m\u001B[43m(\u001B[49m\u001B[38;5;129;43;01mnot\u001B[39;49;00m\u001B[43m \u001B[49m\u001B[43mclose_fds\u001B[49m\u001B[43m)\u001B[49m\u001B[43m,\u001B[49m\n\u001B[0;32m   1424\u001B[0m \u001B[43m                             \u001B[49m\u001B[43mcreationflags\u001B[49m\u001B[43m,\u001B[49m\n\u001B[0;32m   1425\u001B[0m \u001B[43m                             \u001B[49m\u001B[43menv\u001B[49m\u001B[43m,\u001B[49m\n\u001B[0;32m   1426\u001B[0m \u001B[43m                             \u001B[49m\u001B[43mcwd\u001B[49m\u001B[43m,\u001B[49m\n\u001B[0;32m   1427\u001B[0m \u001B[43m                             \u001B[49m\u001B[43mstartupinfo\u001B[49m\u001B[43m)\u001B[49m\n\u001B[0;32m   1428\u001B[0m \u001B[38;5;28;01mfinally\u001B[39;00m:\n\u001B[0;32m   1429\u001B[0m     \u001B[38;5;66;03m# Child is launched. Close the parent's copy of those pipe\u001B[39;00m\n\u001B[0;32m   1430\u001B[0m     \u001B[38;5;66;03m# handles that only the child should have open.  You need\u001B[39;00m\n\u001B[1;32m   (...)\u001B[0m\n\u001B[0;32m   1433\u001B[0m     \u001B[38;5;66;03m# pipe will not close when the child process exits and the\u001B[39;00m\n\u001B[0;32m   1434\u001B[0m     \u001B[38;5;66;03m# ReadFile will hang.\u001B[39;00m\n",
      "\u001B[1;31mFileNotFoundError\u001B[0m: [WinError 2] El sistema no puede encontrar el archivo especificado",
      "\nDuring handling of the above exception, another exception occurred:\n",
      "\u001B[1;31mPDFInfoNotInstalledError\u001B[0m                  Traceback (most recent call last)",
      "Input \u001B[1;32mIn [4]\u001B[0m, in \u001B[0;36m<cell line: 11>\u001B[1;34m()\u001B[0m\n\u001B[0;32m     15\u001B[0m \u001B[38;5;28;01melse\u001B[39;00m:\n\u001B[0;32m     16\u001B[0m     \u001B[38;5;28;01mcontinue\u001B[39;00m\n\u001B[1;32m---> 17\u001B[0m pages \u001B[38;5;241m=\u001B[39m \u001B[43mconvert_from_path\u001B[49m\u001B[43m(\u001B[49m\u001B[43mpath\u001B[49m\u001B[43m)\u001B[49m\n\u001B[0;32m     18\u001B[0m page_index \u001B[38;5;241m=\u001B[39m \u001B[38;5;241m0\u001B[39m\n\u001B[0;32m     19\u001B[0m \u001B[38;5;28;01mfor\u001B[39;00m page \u001B[38;5;129;01min\u001B[39;00m pages:\n",
      "File \u001B[1;32m~\\Anaconda3\\envs\\tfg-22-env\\lib\\site-packages\\pdf2image\\pdf2image.py:98\u001B[0m, in \u001B[0;36mconvert_from_path\u001B[1;34m(pdf_path, dpi, output_folder, first_page, last_page, fmt, jpegopt, thread_count, userpw, use_cropbox, strict, transparent, single_file, output_file, poppler_path, grayscale, size, paths_only, use_pdftocairo, timeout, hide_annotations)\u001B[0m\n\u001B[0;32m     95\u001B[0m \u001B[38;5;28;01mif\u001B[39;00m \u001B[38;5;28misinstance\u001B[39m(poppler_path, pathlib\u001B[38;5;241m.\u001B[39mPurePath):\n\u001B[0;32m     96\u001B[0m     poppler_path \u001B[38;5;241m=\u001B[39m poppler_path\u001B[38;5;241m.\u001B[39mas_posix()\n\u001B[1;32m---> 98\u001B[0m page_count \u001B[38;5;241m=\u001B[39m \u001B[43mpdfinfo_from_path\u001B[49m\u001B[43m(\u001B[49m\u001B[43mpdf_path\u001B[49m\u001B[43m,\u001B[49m\u001B[43m \u001B[49m\u001B[43muserpw\u001B[49m\u001B[43m,\u001B[49m\u001B[43m \u001B[49m\u001B[43mpoppler_path\u001B[49m\u001B[38;5;241;43m=\u001B[39;49m\u001B[43mpoppler_path\u001B[49m\u001B[43m)\u001B[49m[\u001B[38;5;124m\"\u001B[39m\u001B[38;5;124mPages\u001B[39m\u001B[38;5;124m\"\u001B[39m]\n\u001B[0;32m    100\u001B[0m \u001B[38;5;66;03m# We start by getting the output format, the buffer processing function and if we need pdftocairo\u001B[39;00m\n\u001B[0;32m    101\u001B[0m parsed_fmt, final_extension, parse_buffer_func, use_pdfcairo_format \u001B[38;5;241m=\u001B[39m _parse_format(\n\u001B[0;32m    102\u001B[0m     fmt, grayscale\n\u001B[0;32m    103\u001B[0m )\n",
      "File \u001B[1;32m~\\Anaconda3\\envs\\tfg-22-env\\lib\\site-packages\\pdf2image\\pdf2image.py:484\u001B[0m, in \u001B[0;36mpdfinfo_from_path\u001B[1;34m(pdf_path, userpw, poppler_path, rawdates, timeout)\u001B[0m\n\u001B[0;32m    481\u001B[0m     \u001B[38;5;28;01mreturn\u001B[39;00m d\n\u001B[0;32m    483\u001B[0m \u001B[38;5;28;01mexcept\u001B[39;00m \u001B[38;5;167;01mOSError\u001B[39;00m:\n\u001B[1;32m--> 484\u001B[0m     \u001B[38;5;28;01mraise\u001B[39;00m PDFInfoNotInstalledError(\n\u001B[0;32m    485\u001B[0m         \u001B[38;5;124m\"\u001B[39m\u001B[38;5;124mUnable to get page count. Is poppler installed and in PATH?\u001B[39m\u001B[38;5;124m\"\u001B[39m\n\u001B[0;32m    486\u001B[0m     )\n\u001B[0;32m    487\u001B[0m \u001B[38;5;28;01mexcept\u001B[39;00m \u001B[38;5;167;01mValueError\u001B[39;00m:\n\u001B[0;32m    488\u001B[0m     \u001B[38;5;28;01mraise\u001B[39;00m PDFPageCountError(\n\u001B[0;32m    489\u001B[0m         \u001B[38;5;124m\"\u001B[39m\u001B[38;5;124mUnable to get page count.\u001B[39m\u001B[38;5;130;01m\\n\u001B[39;00m\u001B[38;5;132;01m%s\u001B[39;00m\u001B[38;5;124m\"\u001B[39m \u001B[38;5;241m%\u001B[39m err\u001B[38;5;241m.\u001B[39mdecode(\u001B[38;5;124m\"\u001B[39m\u001B[38;5;124mutf8\u001B[39m\u001B[38;5;124m\"\u001B[39m, \u001B[38;5;124m\"\u001B[39m\u001B[38;5;124mignore\u001B[39m\u001B[38;5;124m\"\u001B[39m)\n\u001B[0;32m    490\u001B[0m     )\n",
      "\u001B[1;31mPDFInfoNotInstalledError\u001B[0m: Unable to get page count. Is poppler installed and in PATH?"
     ]
    }
   ],
   "source": [
    "left_margin = 175\n",
    "top_header_margin = 790\n",
    "top_regular_margin = 296\n",
    "right_margin = 1480\n",
    "bottom_margin = 2160\n",
    "\n",
    "dscd_files = [f'{dscd_path}/{file}' for file in listdir(dscd_path)]\n",
    "dss_files = [f'{dss_path}/{file}' for file in listdir(dss_path)]\n",
    "paths = dscd_files + dss_files\n",
    "\n",
    "for path in paths:\n",
    "    folder = f'./.data/images/{basename(path)[:-4]}'\n",
    "    if not isdir(folder):\n",
    "        makedirs(folder)\n",
    "    else:\n",
    "        continue\n",
    "    pages = convert_from_path(path)\n",
    "    page_index = 0\n",
    "    for page in pages:\n",
    "        top_margin = top_header_margin if page_index == 0 else top_regular_margin\n",
    "        page\\\n",
    "            .crop((left_margin, top_margin, right_margin, bottom_margin))\\\n",
    "            .save(f'{folder}/{basename(path)[:-4]}-{page_index:03d}.jpeg', 'JPEG')\n",
    "        page_index += 1"
   ],
   "metadata": {
    "collapsed": false,
    "pycharm": {
     "name": "#%%\n"
    }
   }
  },
  {
   "cell_type": "markdown",
   "source": [
    "## 3.- Convertir imatges a text"
   ],
   "metadata": {
    "collapsed": false,
    "pycharm": {
     "name": "#%% md\n"
    }
   }
  },
  {
   "cell_type": "code",
   "execution_count": null,
   "outputs": [],
   "source": [
    "cmd_docker_build = 'docker build -t tfg-ocr $(pwd)/tesseractOcr'\n",
    "cmd_docker_run = 'docker run -v $(pwd)/.data/images:/home/images -v $(pwd)/.data/texts:/home/texts tfg-ocr'\n",
    "\n",
    "subprocess.call(cmd_docker_build, shell=True)\n",
    "subprocess.call(cmd_docker_run, shell=True)"
   ],
   "metadata": {
    "collapsed": false,
    "pycharm": {
     "name": "#%%\n",
     "is_executing": true
    }
   }
  },
  {
   "cell_type": "code",
   "execution_count": null,
   "outputs": [],
   "source": [
    "all_texts_path = './.data/texts'\n",
    "\n",
    "text_paths = listdir(all_texts_path)\n",
    "for text_path in text_paths:\n",
    "    if isfile(f'{all_texts_path}/{text_path}'):\n",
    "        continue\n",
    "    full_text_path = f'{all_texts_path}/full_{text_path}.txt'\n",
    "    if isfile(full_text_path):\n",
    "        continue\n",
    "\n",
    "    text_pages_paths = sorted(listdir(f'{all_texts_path}/{text_path}'))\n",
    "    with open(full_text_path, 'w') as full_text_file:\n",
    "        for text_page_path in text_pages_paths:\n",
    "            with open(f'{all_texts_path}/{text_path}/{text_page_path}') as page_text_file:\n",
    "                full_text_file.write(page_text_file.read())"
   ],
   "metadata": {
    "collapsed": false,
    "pycharm": {
     "name": "#%%\n"
    }
   }
  },
  {
   "cell_type": "markdown",
   "source": [
    "## 4.- Obtenir diputats"
   ],
   "metadata": {
    "collapsed": false,
    "pycharm": {
     "name": "#%% md\n"
    }
   }
  },
  {
   "cell_type": "code",
   "execution_count": null,
   "outputs": [],
   "source": [
    "def get_deputies(legislature):\n",
    "    url_deputies = \"https://www.congreso.es/busqueda-de-diputados?p_p_id=diputadomodule&p_p_lifecycle=2&p_p_state=normal&p_p_mode=view&p_p_resource_id=searchDiputados&p_p_cacheability=cacheLevelPage\"\n",
    "\n",
    "    payload={'_diputadomodule_idLegislatura': legislature,\n",
    "             '_diputadomodule_genero': '0',\n",
    "             '_diputadomodule_grupo': 'all',\n",
    "             '_diputadomodule_tipo': '2',\n",
    "             '_diputadomodule_nombre': '',\n",
    "             '_diputadomodule_apellidos': '',\n",
    "             '_diputadomodule_formacion': 'all',\n",
    "             '_diputadomodule_filtroProvincias': '[]',\n",
    "             '_diputadomodule_nombreCircunscripcion': ''}\n",
    "\n",
    "    response = requests.request(\"POST\", url_deputies, data=payload)\n",
    "    return response.text"
   ],
   "metadata": {
    "collapsed": false,
    "pycharm": {
     "name": "#%%\n"
    }
   }
  },
  {
   "cell_type": "code",
   "execution_count": null,
   "outputs": [],
   "source": [
    "pkl_path = './.data/deputies.pkl'\n",
    "if isfile(pkl_path):\n",
    "    print('from file')\n",
    "    dp = pd.read_pickle(pkl_path)\n",
    "else:\n",
    "    print('download')\n",
    "    df = None\n",
    "    for current_legislature in legislatures:\n",
    "        data = get_deputies(current_legislature)\n",
    "        data_json = json.loads(data)\n",
    "        if df is None:\n",
    "            df = json_normalize(data_json['data'])\n",
    "        else:\n",
    "            new_df = json_normalize(data_json['data'])\n",
    "            for index, row in new_df.iterrows():\n",
    "                current_row_df = df[(df.apellidosNombre == row['apellidosNombre']) & (df.formacion == row['formacion'])]\n",
    "                if current_row_df.empty:\n",
    "                    df = pd.concat([df, row])\n",
    "                else:\n",
    "                    df.loc[(df.apellidosNombre == row['apellidosNombre']) & (df.formacion == row['formacion']), 'fchBaja'] = row['fchBaja']\n",
    "                    df.loc[(df.apellidosNombre == row['apellidosNombre']) & (df.formacion == row['formacion']), 'idLegislatura'] = f'{current_row_df.iloc[0].idLegislatura},{row[\"idLegislatura\"]}'\n",
    "\n",
    "    df.to_pickle('./.data/deputies.pkl')"
   ],
   "metadata": {
    "collapsed": false,
    "pycharm": {
     "name": "#%%\n"
    }
   }
  },
  {
   "cell_type": "code",
   "execution_count": null,
   "outputs": [],
   "source": [],
   "metadata": {
    "collapsed": false,
    "pycharm": {
     "name": "#%%\n"
    }
   }
  }
 ],
 "metadata": {
  "kernelspec": {
   "display_name": "Python 3",
   "language": "python",
   "name": "python3"
  },
  "language_info": {
   "codemirror_mode": {
    "name": "ipython",
    "version": 2
   },
   "file_extension": ".py",
   "mimetype": "text/x-python",
   "name": "python",
   "nbconvert_exporter": "python",
   "pygments_lexer": "ipython2",
   "version": "2.7.6"
  }
 },
 "nbformat": 4,
 "nbformat_minor": 0
}