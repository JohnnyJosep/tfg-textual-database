{
 "cells": [
  {
   "cell_type": "markdown",
   "source": [
    "# Fase 01 - Obtenció de dades"
   ],
   "metadata": {
    "collapsed": false,
    "pycharm": {
     "name": "#%% md\n"
    }
   }
  },
  {
   "cell_type": "code",
   "execution_count": 2,
   "outputs": [],
   "source": [
    "from downloadDiaryOfSessions.main import download\n",
    "from googleSync.main import sync_folder\n",
    "\n",
    "import json\n",
    "from os.path import basename, isdir, isfile\n",
    "from os import listdir, makedirs\n",
    "import pandas as pd\n",
    "from pandas import json_normalize\n",
    "from pdf2image import convert_from_path\n",
    "import requests\n",
    "import subprocess"
   ],
   "metadata": {
    "collapsed": false,
    "pycharm": {
     "name": "#%%\n"
    }
   }
  },
  {
   "cell_type": "markdown",
   "source": [
    "## 1.- Descarregar diaris de sessions"
   ],
   "metadata": {
    "collapsed": false,
    "pycharm": {
     "name": "#%% md\n"
    }
   }
  },
  {
   "cell_type": "code",
   "execution_count": null,
   "outputs": [
    {
     "name": "stdout",
     "output_type": "stream",
     "text": [
      "Upload: .data/texts/dss-14-340/dss-14-340-018.txt\n",
      "Uploaded: 16i7QWOBVFdXHrBgv9g-uCoflfnSY-uQA\n",
      "Upload: .data/texts/dss-14-340/dss-14-340-011.txt\n",
      "Uploaded: 1ufk05hIPp69VcRmXLvnQqWaQWPGRdrIa\n",
      "Upload: .data/texts/dss-14-340/dss-14-340-022.txt\n",
      "Uploaded: 1CkZ-gjZ3QmOhaTHTic9qJ-XGbwLXANA4\n",
      "Upload: .data/texts/dss-14-340/dss-14-340-020.txt\n",
      "Uploaded: 1Hn6oHWc3h_-qLfKUV0tBGbN8-7K9xqbU\n",
      "Upload: .data/texts/dss-14-340/dss-14-340-034.txt\n",
      "Uploaded: 16hrBmP1xDxE6s7wFrszZe8vfNf3uqfr1\n",
      "Upload: .data/texts/dss-14-340/dss-14-340-024.txt\n",
      "Uploaded: 1hrhrH7dkmuCwKt9P-TQyqopFKksq3cpZ\n",
      "Upload: .data/texts/dss-14-340/dss-14-340-003.txt\n",
      "Uploaded: 1FQ_AwYlRK8out-QUYxaAYVM-MEvMLfK8\n",
      "Upload: .data/texts/dss-14-340/dss-14-340-017.txt\n",
      "Uploaded: 1NYcOOeVSQGfLCIOoNWCQsf4TJIU4YzSg\n",
      "Upload: .data/texts/dss-14-340/dss-14-340-013.txt\n",
      "Uploaded: 1k0Ykvida6xJygx-l_LWv4asmruHchIZI\n",
      "Upload: .data/texts/dss-14-340/dss-14-340-028.txt\n",
      "Uploaded: 1SU5m8-6OWoB2m_C_0FabpRsr5wcQGsG8\n",
      "Upload: .data/texts/dss-14-340/dss-14-340-016.txt\n",
      "Uploaded: 1nvw73tVCiwYKt7axotjkDhllgpEGJotc\n",
      "Upload: .data/texts/dss-14-340/dss-14-340-012.txt\n",
      "Uploaded: 1BBpFNOGPvb68knfZW8J4T-IdqWa-JDdV\n",
      "Upload: .data/texts/dss-14-340/dss-14-340-025.txt\n",
      "Uploaded: 1d61OxIV39t0pYyhgVMUee6_pspLmvRse\n",
      "Upload: .data/texts/dss-14-340/dss-14-340-006.txt\n",
      "Uploaded: 1r7RJLz3aJVEYJyUwzAd6Bf711nK8T_41\n",
      "Upload: .data/texts/dss-14-340/dss-14-340-023.txt\n",
      "Uploaded: 1CecX7ZOdcEK2nvrUqWtTDicVGT38rv4m\n",
      "Upload: .data/texts/dss-14-340/dss-14-340-004.txt\n",
      "Uploaded: 1j4IZYZFnAXblfGP2ciW--OBFopTBsTjd\n",
      "Upload: .data/texts/dss-14-340/dss-14-340-032.txt\n",
      "Uploaded: 1_6ZC3P-KKcgL2Mi3rTrglSzIahBbLPTX\n",
      "Upload: .data/texts/dss-14-340/dss-14-340-027.txt\n",
      "Uploaded: 1oqarExgxVLzc9OHeyxQo9qVSzbj9AHVj\n",
      "Upload: .data/texts/dss-14-340/dss-14-340-033.txt\n",
      "Uploaded: 1b4I_2ngxQXJ7ifvmoVDFGA32g_8lDnac\n",
      "Upload: .data/texts/dss-14-340/dss-14-340-029.txt\n",
      "Uploaded: 1XcbhT-V9KU2YB8W1OW8T0IN9QYQKn62G\n",
      "Upload: .data/texts/dss-14-340/dss-14-340-010.txt\n",
      "Uploaded: 1GXPTl2796qV0YRK_yxFsiq7mDjVZyQD6\n",
      "Upload: .data/texts/dss-14-340/dss-14-340-031.txt\n",
      "Uploaded: 1entBmC8gROvUcy4qj6JCRT6mdniz0dyA\n",
      "Upload: .data/texts/dss-14-340/dss-14-340-015.txt\n",
      "Uploaded: 1uW_VaweIenfCEHKbeu_NYqH00XLdNc3_\n",
      "Upload: .data/texts/dss-14-340/dss-14-340-007.txt\n",
      "Uploaded: 1kJnbSHOeSU_KwHeeGZxdAgmVBNfn3gZS\n",
      "Upload: .data/texts/dss-14-340/dss-14-340-021.txt\n",
      "Uploaded: 1716zZOPKKeO8Svlb6usU6AoOLOc3Gs-g\n",
      "Upload: .data/texts/dss-14-340/dss-14-340-008.txt\n",
      "Uploaded: 1cAAIwLXXmT1gH5efcVfrTvm15x7ZcTeD\n",
      "Upload: .data/texts/dss-14-340/dss-14-340-002.txt\n",
      "Uploaded: 1twqcYrlGvFYqdRmbewlXUG6T3C7YXrvr\n",
      "Upload: .data/texts/dss-14-340/dss-14-340-005.txt\n",
      "Uploaded: 1qPlN2zmsawNdXP4Mcl7HuN00VNDUap2O\n",
      "Upload: .data/texts/dss-14-340/dss-14-340-009.txt\n",
      "Uploaded: 1TZtlSJOwMVEOgdCauWYc6qZhmr6Q9JpD\n",
      "Upload: .data/texts/dss-14-340/dss-14-340-000.txt\n",
      "Uploaded: 1I05m2y77NVeKyhlhyQV2x-a8tWSWNyyt\n",
      "Upload: .data/texts/dss-14-340/dss-14-340-026.txt\n",
      "Uploaded: 1yqrlUgQdg2tZDfsuhiVpo4LjmKypKPtR\n",
      "Upload: .data/texts/dss-14-340/dss-14-340-019.txt\n",
      "Uploaded: 1xDbIGAHefr0Kf6k8vIre7QgWMmrCSovn\n",
      "Upload: .data/texts/dss-14-340/dss-14-340-035.txt\n",
      "Uploaded: 1kinHGlitp7kLO-d05UzABuuoc5uX86ef\n",
      "Upload: .data/texts/dss-14-340/dss-14-340-014.txt\n",
      "Uploaded: 10NUYePl3D07qUdeQlh5AS7Y4FIhic20a\n",
      "Upload: .data/texts/dss-14-340/dss-14-340-001.txt\n",
      "Uploaded: 1tSezIyj0AGtwizvLwMnlBUVCpxXue3QI\n",
      "Upload: .data/texts/dss-14-340/dss-14-340-030.txt\n",
      "Uploaded: 1h2LczVBEW4-9vxDSBOc4M0K_AqaY_j4O\n",
      "Upload: .data/texts/dscd-12-175/dscd-12-175-024.txt\n",
      "Uploaded: 1qI2hgMHRSFLCJPLR3qxQ3EFNfZtXl5O7\n",
      "Upload: .data/texts/dscd-12-175/dscd-12-175-016.txt\n",
      "Uploaded: 1ZGHu5xQ5gkwUR9NxqSm0MoPkotxIRKga\n",
      "Upload: .data/texts/dscd-12-175/dscd-12-175-074.txt\n",
      "Uploaded: 117YS5SsdgVdNpkImgxUsE2kqo_bLY4Q9\n",
      "Upload: .data/texts/dscd-12-175/dscd-12-175-011.txt\n",
      "Uploaded: 169jZjtXQMzLbLRXFlc3OFb4_k4HZ-xZC\n",
      "Upload: .data/texts/dscd-12-175/dscd-12-175-054.txt\n",
      "Uploaded: 16-zHQVY5630j2Abr1gh5R5nldRRsPa1r\n",
      "Upload: .data/texts/dscd-12-175/dscd-12-175-038.txt\n",
      "Uploaded: 1irnwhPsRT29UE2Ayq8bV7T91OwXadRPJ\n",
      "Upload: .data/texts/dscd-12-175/dscd-12-175-040.txt\n",
      "Uploaded: 1tlm_7bnTyOCor77LJiCQ273sTOyo8-2R\n",
      "Upload: .data/texts/dscd-12-175/dscd-12-175-087.txt\n",
      "Uploaded: 1T-5Wo_B3vWm-SWN_Jjhgv5aQIo9C5s9x\n",
      "Upload: .data/texts/dscd-12-175/dscd-12-175-084.txt\n",
      "Uploaded: 1xMSa_E3Fldg5ws2ZUgtK8LwZKI34sVf7\n",
      "Upload: .data/texts/dscd-12-175/dscd-12-175-029.txt\n",
      "Uploaded: 1Kn5dPyVcNARlVNiV3R-CsGTOQwt6r59J\n",
      "Upload: .data/texts/dscd-12-175/dscd-12-175-025.txt\n",
      "Uploaded: 15OAsMSdT-N0X2MugeEWtnkrUfI92_Wk5\n",
      "Upload: .data/texts/dscd-12-175/dscd-12-175-015.txt\n",
      "Uploaded: 1FqnEQ00JJfWSA6-CEwAVhMrH8TI0Feqs\n",
      "Upload: .data/texts/dscd-12-175/dscd-12-175-042.txt\n",
      "Uploaded: 1rgb6mMBlYhp9AqqROkb5xSI1WDIB7iLG\n",
      "Upload: .data/texts/dscd-12-175/dscd-12-175-027.txt\n",
      "Uploaded: 1BWBos6s9L_Gb3UM_WIsmNgRLZt-E-tjs\n",
      "Upload: .data/texts/dscd-12-175/dscd-12-175-058.txt\n",
      "Uploaded: 1xolpnyc6YaNGPjxg7a5bGq7KQ9e0cymf\n",
      "Upload: .data/texts/dscd-12-175/dscd-12-175-089.txt\n",
      "Uploaded: 1E5Pzwd6gaBlvZz06nvYSBgD7LTVQ0pOg\n",
      "Upload: .data/texts/dscd-12-175/dscd-12-175-028.txt\n",
      "Uploaded: 1qPTs6uigolOo2Z6XrLGW3ReCrmV-q18H\n",
      "Upload: .data/texts/dscd-12-175/dscd-12-175-046.txt\n",
      "Uploaded: 1cx4YNTwCBinJ1_tOKattm-eoZB4zGLrt\n",
      "Upload: .data/texts/dscd-12-175/dscd-12-175-039.txt\n",
      "Uploaded: 1rXg2QLb8eNR9XeDJi14smD1rNZbfXRRY\n",
      "Upload: .data/texts/dscd-12-175/dscd-12-175-009.txt\n",
      "Uploaded: 1BCpBi5Sh9XZYJEOCn0TRrQYs3HyOC5LL\n",
      "Upload: .data/texts/dscd-12-175/dscd-12-175-061.txt\n",
      "Uploaded: 1fBGz1EWU3Zgibd6xq6N3rE5APmSbrY70\n",
      "Upload: .data/texts/dscd-12-175/dscd-12-175-090.txt\n",
      "Uploaded: 1xcyAOPdT-2Nlvno79hcRe0n0pxB3obD6\n",
      "Upload: .data/texts/dscd-12-175/dscd-12-175-034.txt\n",
      "Uploaded: 1ZIX-Ub5E87s1JmOjk2D8cOzkifi5fGkB\n",
      "Upload: .data/texts/dscd-12-175/dscd-12-175-050.txt\n",
      "Uploaded: 1xbKzXwGNXfrlkimqrF0SbSa2kLAwPJ-y\n",
      "Upload: .data/texts/dscd-12-175/dscd-12-175-030.txt\n",
      "Uploaded: 1uYQ41P6iZrVHlCmo2jq42Imr_utbtX6O\n",
      "Upload: .data/texts/dscd-12-175/dscd-12-175-086.txt\n",
      "Uploaded: 1DU0QQZ9Gm98IVXASzEq-ufhUYQGVuIfE\n",
      "Upload: .data/texts/dscd-12-175/dscd-12-175-051.txt\n",
      "Uploaded: 1_ikQPr65vqCDEEdfEpvLYmCV6S7JdvYX\n",
      "Upload: .data/texts/dscd-12-175/dscd-12-175-017.txt\n",
      "Uploaded: 1N1-TfbUv9wG__MYWgVsRICR-8QMRkY33\n",
      "Upload: .data/texts/dscd-12-175/dscd-12-175-080.txt\n",
      "Uploaded: 19d9e1OQJTiALrlZ6rllIiyhNg1GK3KLB\n",
      "Upload: .data/texts/dscd-12-175/dscd-12-175-032.txt\n",
      "Uploaded: 1XmvSF1HkAQw2gdWTD0vc5n-Gm6S0yyVy\n",
      "Upload: .data/texts/dscd-12-175/dscd-12-175-035.txt\n",
      "Uploaded: 1PNTU-Ef0RLG6R3WdeB2vsGvMruqQnOmb\n",
      "Upload: .data/texts/dscd-12-175/dscd-12-175-062.txt\n",
      "Uploaded: 1RWeACOhl63uwYHOOPU7DwuZiWJZ3CZoc\n",
      "Upload: .data/texts/dscd-12-175/dscd-12-175-020.txt\n",
      "Uploaded: 1T8056NrWEkf6KTrG0Hsk8clTOHHlajk_\n",
      "Upload: .data/texts/dscd-12-175/dscd-12-175-002.txt\n",
      "Uploaded: 1AiGU70kMyb4lc8AFt76oz3BvLPkSLPo3\n",
      "Upload: .data/texts/dscd-12-175/dscd-12-175-049.txt\n",
      "Uploaded: 1TSPRz_jin8ivsxLLswkLxLLl24IU-WGG\n",
      "Upload: .data/texts/dscd-12-175/dscd-12-175-072.txt\n",
      "Uploaded: 1Tdz6840kd04CS_8Dl4FET4m_RTydtyp0\n",
      "Upload: .data/texts/dscd-12-175/dscd-12-175-045.txt\n",
      "Uploaded: 1Tv_1xZqNZ3_9j_TFMlvYZW6Ec7IdtAPC\n",
      "Upload: .data/texts/dscd-12-175/dscd-12-175-085.txt\n",
      "Uploaded: 15SaHXTs7milTqw5Q7xe72_3lHRbB8NTt\n",
      "Upload: .data/texts/dscd-12-175/dscd-12-175-003.txt\n",
      "Uploaded: 1u75fyK2JTTzuZ8Db1SkyALa8pWu9pDDe\n",
      "Upload: .data/texts/dscd-12-175/dscd-12-175-057.txt\n",
      "Uploaded: 1ceZ_VJmSmL07CfNHZbHmAx9I-oFWHKTi\n",
      "Upload: .data/texts/dscd-12-175/dscd-12-175-081.txt\n",
      "Uploaded: 1bBOEE7tX_tB8U4TIm_OWl2RHozestHUJ\n",
      "Upload: .data/texts/dscd-12-175/dscd-12-175-037.txt\n",
      "Uploaded: 1_stwHEEDERvVm0cjFzRQ5Upft7-J_b9U\n",
      "Upload: .data/texts/dscd-12-175/dscd-12-175-019.txt\n",
      "Uploaded: 1mHXV30gaBw8uHXK18iZXsq9MvJpMe54V\n",
      "Upload: .data/texts/dscd-12-175/dscd-12-175-014.txt\n",
      "Uploaded: 1RJ47gt4RHTKqZMIQdZpN59CKR4ZDorID\n",
      "Upload: .data/texts/dscd-12-175/dscd-12-175-055.txt\n",
      "Uploaded: 17v5yBUBoBoP_Rct1XmvLHkwXsdQ_LRg4\n",
      "Upload: .data/texts/dscd-12-175/dscd-12-175-079.txt\n",
      "Uploaded: 160v3sNz7Ohwg2bOpKhRsH6lL9h3g0BsT\n",
      "Upload: .data/texts/dscd-12-175/dscd-12-175-043.txt\n",
      "Uploaded: 1WKUCkTw0H4aKkcbGbUKuqmf-oeXllMth\n",
      "Upload: .data/texts/dscd-12-175/dscd-12-175-041.txt\n",
      "Uploaded: 1c2podiy1NespnnAsJJuG977AwZKlWAjq\n",
      "Upload: .data/texts/dscd-12-175/dscd-12-175-000.txt\n",
      "Uploaded: 1nkOXMy2sMgqrxHTBZKDcGfkAh_bh9wlr\n",
      "Upload: .data/texts/dscd-12-175/dscd-12-175-083.txt\n",
      "Uploaded: 14oGdqvK48aguKoh1MjQV3yOaYbhIeNMT\n",
      "Upload: .data/texts/dscd-12-175/dscd-12-175-026.txt\n",
      "Uploaded: 1o7TR5wzxiTPfvovk6EDdH0gosvSwtuLY\n",
      "Upload: .data/texts/dscd-12-175/dscd-12-175-023.txt\n",
      "Uploaded: 1jXo6Eaw0zLASuqPuBZQfov1sg_q0JHZ-\n",
      "Upload: .data/texts/dscd-12-175/dscd-12-175-065.txt\n",
      "Uploaded: 1SNWXJre8r-4eSgRuR6tyXcPfGUh3n_Ci\n",
      "Upload: .data/texts/dscd-12-175/dscd-12-175-006.txt\n",
      "Uploaded: 11rvhuuaCAj84k6BmMLFkLW0a2w480eHJ\n",
      "Upload: .data/texts/dscd-12-175/dscd-12-175-064.txt\n",
      "Uploaded: 1JbMgO76PqbXGnsSf6KpCqQT6j2iVUE9b\n",
      "Upload: .data/texts/dscd-12-175/dscd-12-175-071.txt\n",
      "Uploaded: 1EiUPrsax2A_nb3WDFviWbyaCEkz1CSgD\n",
      "Upload: .data/texts/dscd-12-175/dscd-12-175-012.txt\n",
      "Uploaded: 1FIwEOHAvltCHu1M_t3e4tNrGpFW1zegi\n",
      "Upload: .data/texts/dscd-12-175/dscd-12-175-056.txt\n",
      "Uploaded: 1HVuBnLoLzkRg3myk9qY7T_TPkok6rorr\n",
      "Upload: .data/texts/dscd-12-175/dscd-12-175-059.txt\n",
      "Uploaded: 1ub_CuWTD0XkWxx_jelgdcVq3vltMxHqd\n",
      "Upload: .data/texts/dscd-12-175/dscd-12-175-044.txt\n",
      "Uploaded: 1GxX0FSgDJ7HAgoivPw4VUZlI2DDvjM_9\n",
      "Upload: .data/texts/dscd-12-175/dscd-12-175-073.txt\n",
      "Uploaded: 1AOI5dT-AQkcqSRBLKLfx2ixJowEaeEWS\n",
      "Upload: .data/texts/dscd-12-175/dscd-12-175-018.txt\n",
      "Uploaded: 1anmLejZhLb3g7dk6fxnBmYRXrbIx6jvj\n",
      "Upload: .data/texts/dscd-12-175/dscd-12-175-021.txt\n",
      "Uploaded: 14_ng8bTIICS55n8IdA1cuSfiSd3X8GcG\n",
      "Upload: .data/texts/dscd-12-175/dscd-12-175-066.txt\n",
      "Uploaded: 12vw2SxPWtf9UXML0BNQCHJms3AJ4-esX\n",
      "Upload: .data/texts/dscd-12-175/dscd-12-175-070.txt\n",
      "Uploaded: 19bH4jMwkJG5EmLHovmvvKFdUE7Krtx6K\n",
      "Upload: .data/texts/dscd-12-175/dscd-12-175-053.txt\n",
      "Uploaded: 17XzU0E4LxbvgjkP6lf7-bImD9qZxicX7\n",
      "Upload: .data/texts/dscd-12-175/dscd-12-175-078.txt\n",
      "Uploaded: 1bMqKS9uFpaXAX7db0LSYkEMU_L52IwRr\n",
      "Upload: .data/texts/dscd-12-175/dscd-12-175-033.txt\n",
      "Uploaded: 1_6LUuMPxMsFqizYJeyYINDzy0s1HbByY\n",
      "Upload: .data/texts/dscd-12-175/dscd-12-175-031.txt\n",
      "Uploaded: 1BQQk5YNLgN6XC_ocQx9EH9l_wFcANVUd\n",
      "Upload: .data/texts/dscd-12-175/dscd-12-175-013.txt\n",
      "Uploaded: 1DJdKPqiEDYIjCxEtoIS8MPs19rQ3IIwH\n",
      "Upload: .data/texts/dscd-12-175/dscd-12-175-075.txt\n",
      "Uploaded: 1waU5MCwJjBBo_71K4ikn2yNKI7e_8qTB\n",
      "Upload: .data/texts/dscd-12-175/dscd-12-175-048.txt\n",
      "Uploaded: 1tzSiBbJTEfpLczYTD0igcUzVexXh704k\n",
      "Upload: .data/texts/dscd-12-175/dscd-12-175-063.txt\n",
      "Uploaded: 1JQ5-OrB9IoU491DaGUmFBf1j6_Q3TNnu\n",
      "Upload: .data/texts/dscd-12-175/dscd-12-175-052.txt\n",
      "Uploaded: 1eq-cIp8qeKJzlADRC0Cog53nfTjs1ZxK\n",
      "Upload: .data/texts/dscd-12-175/dscd-12-175-077.txt\n"
     ]
    }
   ],
   "source": [
    "sync_folder()"
   ],
   "metadata": {
    "collapsed": false,
    "pycharm": {
     "name": "#%%\n",
     "is_executing": true
    }
   }
  },
  {
   "cell_type": "code",
   "execution_count": 3,
   "outputs": [],
   "source": [
    "legislatures = [11, 12, 13, 14]\n",
    "max_errors = 50\n",
    "dscd_path = './.data/diary_session_congress_deputies_pdfs'\n",
    "dss_path = './.data/diary_session_senate_pdfs'\n",
    "\n",
    "def diary_session_congress_deputies_url(legislature, plenary):\n",
    "    return f\"https://www.congreso.es/public_oficiales/L{legislature}/CONG/DS/PL/DSCD-{legislature}-PL-{plenary}.PDF\"\n",
    "\n",
    "def diary_session_senate_url(legislature, plenary):\n",
    "    return f\"https://www.senado.es/legis{legislature}/publicaciones/pdf/senado/ds/DS_C_{legislature}_{plenary}.PDF\""
   ],
   "metadata": {
    "collapsed": false,
    "pycharm": {
     "name": "#%%\n"
    }
   }
  },
  {
   "cell_type": "markdown",
   "source": [
    "### 1.1.- Diaris de sessions del congress de diputats"
   ],
   "metadata": {
    "collapsed": false,
    "pycharm": {
     "name": "#%% md\n"
    }
   }
  },
  {
   "cell_type": "code",
   "execution_count": 3,
   "outputs": [],
   "source": [
    "if not isdir(dscd_path):\n",
    "    makedirs(dscd_path)\n",
    "\n",
    "for current_legislature in legislatures:\n",
    "    current_plenary = 1\n",
    "    consecutive_errors = 0\n",
    "    while consecutive_errors < max_errors:\n",
    "        url = diary_session_congress_deputies_url(current_legislature, current_plenary)\n",
    "        file = f\"dscd-{current_legislature}-{current_plenary:03d}\"\n",
    "        if download(url, dscd_path, file):\n",
    "            consecutive_errors = 0\n",
    "        else:\n",
    "            consecutive_errors += 1\n",
    "\n",
    "        current_plenary += 1"
   ],
   "metadata": {
    "collapsed": false,
    "pycharm": {
     "name": "#%%\n"
    }
   }
  },
  {
   "cell_type": "markdown",
   "source": [
    "### 1.2.- Diaris de sessions del senat"
   ],
   "metadata": {
    "collapsed": false,
    "pycharm": {
     "name": "#%% md\n"
    }
   }
  },
  {
   "cell_type": "code",
   "execution_count": 4,
   "outputs": [],
   "source": [
    "if not isdir(dss_path):\n",
    "    makedirs(dss_path)\n",
    "\n",
    "for current_legislature in legislatures:\n",
    "    current_plenary = 1\n",
    "    consecutive_errors = 0\n",
    "    while consecutive_errors < max_errors:\n",
    "        url = diary_session_senate_url(current_legislature, current_plenary)\n",
    "        file = f\"dss-{current_legislature}-{current_plenary:03d}\"\n",
    "        if download(url, dss_path, file):\n",
    "            consecutive_errors = 0\n",
    "        else:\n",
    "            consecutive_errors += 1\n",
    "\n",
    "        current_plenary += 1"
   ],
   "metadata": {
    "collapsed": false,
    "pycharm": {
     "name": "#%%\n"
    }
   }
  },
  {
   "cell_type": "markdown",
   "source": [
    "## 2.- Convertir pagines de pdf a imatges"
   ],
   "metadata": {
    "collapsed": false,
    "pycharm": {
     "name": "#%% md\n"
    }
   }
  },
  {
   "cell_type": "code",
   "execution_count": 4,
   "outputs": [
    {
     "ename": "PDFInfoNotInstalledError",
     "evalue": "Unable to get page count. Is poppler installed and in PATH?",
     "output_type": "error",
     "traceback": [
      "\u001B[1;31m---------------------------------------------------------------------------\u001B[0m",
      "\u001B[1;31mFileNotFoundError\u001B[0m                         Traceback (most recent call last)",
      "File \u001B[1;32m~\\Anaconda3\\envs\\tfg-22-env\\lib\\site-packages\\pdf2image\\pdf2image.py:458\u001B[0m, in \u001B[0;36mpdfinfo_from_path\u001B[1;34m(pdf_path, userpw, poppler_path, rawdates, timeout)\u001B[0m\n\u001B[0;32m    457\u001B[0m     env[\u001B[38;5;124m\"\u001B[39m\u001B[38;5;124mLD_LIBRARY_PATH\u001B[39m\u001B[38;5;124m\"\u001B[39m] \u001B[38;5;241m=\u001B[39m poppler_path \u001B[38;5;241m+\u001B[39m \u001B[38;5;124m\"\u001B[39m\u001B[38;5;124m:\u001B[39m\u001B[38;5;124m\"\u001B[39m \u001B[38;5;241m+\u001B[39m env\u001B[38;5;241m.\u001B[39mget(\u001B[38;5;124m\"\u001B[39m\u001B[38;5;124mLD_LIBRARY_PATH\u001B[39m\u001B[38;5;124m\"\u001B[39m, \u001B[38;5;124m\"\u001B[39m\u001B[38;5;124m\"\u001B[39m)\n\u001B[1;32m--> 458\u001B[0m proc \u001B[38;5;241m=\u001B[39m \u001B[43mPopen\u001B[49m\u001B[43m(\u001B[49m\u001B[43mcommand\u001B[49m\u001B[43m,\u001B[49m\u001B[43m \u001B[49m\u001B[43menv\u001B[49m\u001B[38;5;241;43m=\u001B[39;49m\u001B[43menv\u001B[49m\u001B[43m,\u001B[49m\u001B[43m \u001B[49m\u001B[43mstdout\u001B[49m\u001B[38;5;241;43m=\u001B[39;49m\u001B[43mPIPE\u001B[49m\u001B[43m,\u001B[49m\u001B[43m \u001B[49m\u001B[43mstderr\u001B[49m\u001B[38;5;241;43m=\u001B[39;49m\u001B[43mPIPE\u001B[49m\u001B[43m)\u001B[49m\n\u001B[0;32m    460\u001B[0m \u001B[38;5;28;01mtry\u001B[39;00m:\n",
      "File \u001B[1;32m~\\Anaconda3\\envs\\tfg-22-env\\lib\\subprocess.py:951\u001B[0m, in \u001B[0;36mPopen.__init__\u001B[1;34m(self, args, bufsize, executable, stdin, stdout, stderr, preexec_fn, close_fds, shell, cwd, env, universal_newlines, startupinfo, creationflags, restore_signals, start_new_session, pass_fds, user, group, extra_groups, encoding, errors, text, umask)\u001B[0m\n\u001B[0;32m    948\u001B[0m             \u001B[38;5;28mself\u001B[39m\u001B[38;5;241m.\u001B[39mstderr \u001B[38;5;241m=\u001B[39m io\u001B[38;5;241m.\u001B[39mTextIOWrapper(\u001B[38;5;28mself\u001B[39m\u001B[38;5;241m.\u001B[39mstderr,\n\u001B[0;32m    949\u001B[0m                     encoding\u001B[38;5;241m=\u001B[39mencoding, errors\u001B[38;5;241m=\u001B[39merrors)\n\u001B[1;32m--> 951\u001B[0m     \u001B[38;5;28;43mself\u001B[39;49m\u001B[38;5;241;43m.\u001B[39;49m\u001B[43m_execute_child\u001B[49m\u001B[43m(\u001B[49m\u001B[43margs\u001B[49m\u001B[43m,\u001B[49m\u001B[43m \u001B[49m\u001B[43mexecutable\u001B[49m\u001B[43m,\u001B[49m\u001B[43m \u001B[49m\u001B[43mpreexec_fn\u001B[49m\u001B[43m,\u001B[49m\u001B[43m \u001B[49m\u001B[43mclose_fds\u001B[49m\u001B[43m,\u001B[49m\n\u001B[0;32m    952\u001B[0m \u001B[43m                        \u001B[49m\u001B[43mpass_fds\u001B[49m\u001B[43m,\u001B[49m\u001B[43m \u001B[49m\u001B[43mcwd\u001B[49m\u001B[43m,\u001B[49m\u001B[43m \u001B[49m\u001B[43menv\u001B[49m\u001B[43m,\u001B[49m\n\u001B[0;32m    953\u001B[0m \u001B[43m                        \u001B[49m\u001B[43mstartupinfo\u001B[49m\u001B[43m,\u001B[49m\u001B[43m \u001B[49m\u001B[43mcreationflags\u001B[49m\u001B[43m,\u001B[49m\u001B[43m \u001B[49m\u001B[43mshell\u001B[49m\u001B[43m,\u001B[49m\n\u001B[0;32m    954\u001B[0m \u001B[43m                        \u001B[49m\u001B[43mp2cread\u001B[49m\u001B[43m,\u001B[49m\u001B[43m \u001B[49m\u001B[43mp2cwrite\u001B[49m\u001B[43m,\u001B[49m\n\u001B[0;32m    955\u001B[0m \u001B[43m                        \u001B[49m\u001B[43mc2pread\u001B[49m\u001B[43m,\u001B[49m\u001B[43m \u001B[49m\u001B[43mc2pwrite\u001B[49m\u001B[43m,\u001B[49m\n\u001B[0;32m    956\u001B[0m \u001B[43m                        \u001B[49m\u001B[43merrread\u001B[49m\u001B[43m,\u001B[49m\u001B[43m \u001B[49m\u001B[43merrwrite\u001B[49m\u001B[43m,\u001B[49m\n\u001B[0;32m    957\u001B[0m \u001B[43m                        \u001B[49m\u001B[43mrestore_signals\u001B[49m\u001B[43m,\u001B[49m\n\u001B[0;32m    958\u001B[0m \u001B[43m                        \u001B[49m\u001B[43mgid\u001B[49m\u001B[43m,\u001B[49m\u001B[43m \u001B[49m\u001B[43mgids\u001B[49m\u001B[43m,\u001B[49m\u001B[43m \u001B[49m\u001B[43muid\u001B[49m\u001B[43m,\u001B[49m\u001B[43m \u001B[49m\u001B[43mumask\u001B[49m\u001B[43m,\u001B[49m\n\u001B[0;32m    959\u001B[0m \u001B[43m                        \u001B[49m\u001B[43mstart_new_session\u001B[49m\u001B[43m)\u001B[49m\n\u001B[0;32m    960\u001B[0m \u001B[38;5;28;01mexcept\u001B[39;00m:\n\u001B[0;32m    961\u001B[0m     \u001B[38;5;66;03m# Cleanup if the child failed starting.\u001B[39;00m\n",
      "File \u001B[1;32m~\\Anaconda3\\envs\\tfg-22-env\\lib\\subprocess.py:1420\u001B[0m, in \u001B[0;36mPopen._execute_child\u001B[1;34m(self, args, executable, preexec_fn, close_fds, pass_fds, cwd, env, startupinfo, creationflags, shell, p2cread, p2cwrite, c2pread, c2pwrite, errread, errwrite, unused_restore_signals, unused_gid, unused_gids, unused_uid, unused_umask, unused_start_new_session)\u001B[0m\n\u001B[0;32m   1419\u001B[0m \u001B[38;5;28;01mtry\u001B[39;00m:\n\u001B[1;32m-> 1420\u001B[0m     hp, ht, pid, tid \u001B[38;5;241m=\u001B[39m \u001B[43m_winapi\u001B[49m\u001B[38;5;241;43m.\u001B[39;49m\u001B[43mCreateProcess\u001B[49m\u001B[43m(\u001B[49m\u001B[43mexecutable\u001B[49m\u001B[43m,\u001B[49m\u001B[43m \u001B[49m\u001B[43margs\u001B[49m\u001B[43m,\u001B[49m\n\u001B[0;32m   1421\u001B[0m \u001B[43m                             \u001B[49m\u001B[38;5;66;43;03m# no special security\u001B[39;49;00m\n\u001B[0;32m   1422\u001B[0m \u001B[43m                             \u001B[49m\u001B[38;5;28;43;01mNone\u001B[39;49;00m\u001B[43m,\u001B[49m\u001B[43m \u001B[49m\u001B[38;5;28;43;01mNone\u001B[39;49;00m\u001B[43m,\u001B[49m\n\u001B[0;32m   1423\u001B[0m \u001B[43m                             \u001B[49m\u001B[38;5;28;43mint\u001B[39;49m\u001B[43m(\u001B[49m\u001B[38;5;129;43;01mnot\u001B[39;49;00m\u001B[43m \u001B[49m\u001B[43mclose_fds\u001B[49m\u001B[43m)\u001B[49m\u001B[43m,\u001B[49m\n\u001B[0;32m   1424\u001B[0m \u001B[43m                             \u001B[49m\u001B[43mcreationflags\u001B[49m\u001B[43m,\u001B[49m\n\u001B[0;32m   1425\u001B[0m \u001B[43m                             \u001B[49m\u001B[43menv\u001B[49m\u001B[43m,\u001B[49m\n\u001B[0;32m   1426\u001B[0m \u001B[43m                             \u001B[49m\u001B[43mcwd\u001B[49m\u001B[43m,\u001B[49m\n\u001B[0;32m   1427\u001B[0m \u001B[43m                             \u001B[49m\u001B[43mstartupinfo\u001B[49m\u001B[43m)\u001B[49m\n\u001B[0;32m   1428\u001B[0m \u001B[38;5;28;01mfinally\u001B[39;00m:\n\u001B[0;32m   1429\u001B[0m     \u001B[38;5;66;03m# Child is launched. Close the parent's copy of those pipe\u001B[39;00m\n\u001B[0;32m   1430\u001B[0m     \u001B[38;5;66;03m# handles that only the child should have open.  You need\u001B[39;00m\n\u001B[1;32m   (...)\u001B[0m\n\u001B[0;32m   1433\u001B[0m     \u001B[38;5;66;03m# pipe will not close when the child process exits and the\u001B[39;00m\n\u001B[0;32m   1434\u001B[0m     \u001B[38;5;66;03m# ReadFile will hang.\u001B[39;00m\n",
      "\u001B[1;31mFileNotFoundError\u001B[0m: [WinError 2] El sistema no puede encontrar el archivo especificado",
      "\nDuring handling of the above exception, another exception occurred:\n",
      "\u001B[1;31mPDFInfoNotInstalledError\u001B[0m                  Traceback (most recent call last)",
      "Input \u001B[1;32mIn [4]\u001B[0m, in \u001B[0;36m<cell line: 11>\u001B[1;34m()\u001B[0m\n\u001B[0;32m     15\u001B[0m \u001B[38;5;28;01melse\u001B[39;00m:\n\u001B[0;32m     16\u001B[0m     \u001B[38;5;28;01mcontinue\u001B[39;00m\n\u001B[1;32m---> 17\u001B[0m pages \u001B[38;5;241m=\u001B[39m \u001B[43mconvert_from_path\u001B[49m\u001B[43m(\u001B[49m\u001B[43mpath\u001B[49m\u001B[43m)\u001B[49m\n\u001B[0;32m     18\u001B[0m page_index \u001B[38;5;241m=\u001B[39m \u001B[38;5;241m0\u001B[39m\n\u001B[0;32m     19\u001B[0m \u001B[38;5;28;01mfor\u001B[39;00m page \u001B[38;5;129;01min\u001B[39;00m pages:\n",
      "File \u001B[1;32m~\\Anaconda3\\envs\\tfg-22-env\\lib\\site-packages\\pdf2image\\pdf2image.py:98\u001B[0m, in \u001B[0;36mconvert_from_path\u001B[1;34m(pdf_path, dpi, output_folder, first_page, last_page, fmt, jpegopt, thread_count, userpw, use_cropbox, strict, transparent, single_file, output_file, poppler_path, grayscale, size, paths_only, use_pdftocairo, timeout, hide_annotations)\u001B[0m\n\u001B[0;32m     95\u001B[0m \u001B[38;5;28;01mif\u001B[39;00m \u001B[38;5;28misinstance\u001B[39m(poppler_path, pathlib\u001B[38;5;241m.\u001B[39mPurePath):\n\u001B[0;32m     96\u001B[0m     poppler_path \u001B[38;5;241m=\u001B[39m poppler_path\u001B[38;5;241m.\u001B[39mas_posix()\n\u001B[1;32m---> 98\u001B[0m page_count \u001B[38;5;241m=\u001B[39m \u001B[43mpdfinfo_from_path\u001B[49m\u001B[43m(\u001B[49m\u001B[43mpdf_path\u001B[49m\u001B[43m,\u001B[49m\u001B[43m \u001B[49m\u001B[43muserpw\u001B[49m\u001B[43m,\u001B[49m\u001B[43m \u001B[49m\u001B[43mpoppler_path\u001B[49m\u001B[38;5;241;43m=\u001B[39;49m\u001B[43mpoppler_path\u001B[49m\u001B[43m)\u001B[49m[\u001B[38;5;124m\"\u001B[39m\u001B[38;5;124mPages\u001B[39m\u001B[38;5;124m\"\u001B[39m]\n\u001B[0;32m    100\u001B[0m \u001B[38;5;66;03m# We start by getting the output format, the buffer processing function and if we need pdftocairo\u001B[39;00m\n\u001B[0;32m    101\u001B[0m parsed_fmt, final_extension, parse_buffer_func, use_pdfcairo_format \u001B[38;5;241m=\u001B[39m _parse_format(\n\u001B[0;32m    102\u001B[0m     fmt, grayscale\n\u001B[0;32m    103\u001B[0m )\n",
      "File \u001B[1;32m~\\Anaconda3\\envs\\tfg-22-env\\lib\\site-packages\\pdf2image\\pdf2image.py:484\u001B[0m, in \u001B[0;36mpdfinfo_from_path\u001B[1;34m(pdf_path, userpw, poppler_path, rawdates, timeout)\u001B[0m\n\u001B[0;32m    481\u001B[0m     \u001B[38;5;28;01mreturn\u001B[39;00m d\n\u001B[0;32m    483\u001B[0m \u001B[38;5;28;01mexcept\u001B[39;00m \u001B[38;5;167;01mOSError\u001B[39;00m:\n\u001B[1;32m--> 484\u001B[0m     \u001B[38;5;28;01mraise\u001B[39;00m PDFInfoNotInstalledError(\n\u001B[0;32m    485\u001B[0m         \u001B[38;5;124m\"\u001B[39m\u001B[38;5;124mUnable to get page count. Is poppler installed and in PATH?\u001B[39m\u001B[38;5;124m\"\u001B[39m\n\u001B[0;32m    486\u001B[0m     )\n\u001B[0;32m    487\u001B[0m \u001B[38;5;28;01mexcept\u001B[39;00m \u001B[38;5;167;01mValueError\u001B[39;00m:\n\u001B[0;32m    488\u001B[0m     \u001B[38;5;28;01mraise\u001B[39;00m PDFPageCountError(\n\u001B[0;32m    489\u001B[0m         \u001B[38;5;124m\"\u001B[39m\u001B[38;5;124mUnable to get page count.\u001B[39m\u001B[38;5;130;01m\\n\u001B[39;00m\u001B[38;5;132;01m%s\u001B[39;00m\u001B[38;5;124m\"\u001B[39m \u001B[38;5;241m%\u001B[39m err\u001B[38;5;241m.\u001B[39mdecode(\u001B[38;5;124m\"\u001B[39m\u001B[38;5;124mutf8\u001B[39m\u001B[38;5;124m\"\u001B[39m, \u001B[38;5;124m\"\u001B[39m\u001B[38;5;124mignore\u001B[39m\u001B[38;5;124m\"\u001B[39m)\n\u001B[0;32m    490\u001B[0m     )\n",
      "\u001B[1;31mPDFInfoNotInstalledError\u001B[0m: Unable to get page count. Is poppler installed and in PATH?"
     ]
    }
   ],
   "source": [
    "left_margin = 175\n",
    "top_header_margin = 790\n",
    "top_regular_margin = 296\n",
    "right_margin = 1480\n",
    "bottom_margin = 2160\n",
    "\n",
    "dscd_files = [f'{dscd_path}/{file}' for file in listdir(dscd_path)]\n",
    "dss_files = [f'{dss_path}/{file}' for file in listdir(dss_path)]\n",
    "paths = dscd_files + dss_files\n",
    "\n",
    "for path in paths:\n",
    "    folder = f'./.data/images/{basename(path)[:-4]}'\n",
    "    if not isdir(folder):\n",
    "        makedirs(folder)\n",
    "    else:\n",
    "        continue\n",
    "    pages = convert_from_path(path)\n",
    "    page_index = 0\n",
    "    for page in pages:\n",
    "        top_margin = top_header_margin if page_index == 0 else top_regular_margin\n",
    "        page\\\n",
    "            .crop((left_margin, top_margin, right_margin, bottom_margin))\\\n",
    "            .save(f'{folder}/{basename(path)[:-4]}-{page_index:03d}.jpeg', 'JPEG')\n",
    "        page_index += 1"
   ],
   "metadata": {
    "collapsed": false,
    "pycharm": {
     "name": "#%%\n"
    }
   }
  },
  {
   "cell_type": "markdown",
   "source": [
    "## 3.- Convertir imatges a text"
   ],
   "metadata": {
    "collapsed": false,
    "pycharm": {
     "name": "#%% md\n"
    }
   }
  },
  {
   "cell_type": "code",
   "execution_count": null,
   "outputs": [],
   "source": [
    "cmd_docker_build = 'docker build -t tfg-ocr $(pwd)/tesseractOcr'\n",
    "cmd_docker_run = 'docker run -v $(pwd)/.data/images:/home/images -v $(pwd)/.data/texts:/home/texts tfg-ocr'\n",
    "\n",
    "subprocess.call(cmd_docker_build, shell=True)\n",
    "subprocess.call(cmd_docker_run, shell=True)"
   ],
   "metadata": {
    "collapsed": false,
    "pycharm": {
     "name": "#%%\n",
     "is_executing": true
    }
   }
  },
  {
   "cell_type": "code",
   "execution_count": null,
   "outputs": [],
   "source": [
    "all_texts_path = './.data/texts'\n",
    "\n",
    "text_paths = listdir(all_texts_path)\n",
    "for text_path in text_paths:\n",
    "    if isfile(f'{all_texts_path}/{text_path}'):\n",
    "        continue\n",
    "    full_text_path = f'{all_texts_path}/full_{text_path}.txt'\n",
    "    if isfile(full_text_path):\n",
    "        continue\n",
    "\n",
    "    text_pages_paths = sorted(listdir(f'{all_texts_path}/{text_path}'))\n",
    "    with open(full_text_path, 'w') as full_text_file:\n",
    "        for text_page_path in text_pages_paths:\n",
    "            with open(f'{all_texts_path}/{text_path}/{text_page_path}') as page_text_file:\n",
    "                full_text_file.write(page_text_file.read())"
   ],
   "metadata": {
    "collapsed": false,
    "pycharm": {
     "name": "#%%\n"
    }
   }
  },
  {
   "cell_type": "markdown",
   "source": [
    "## 4.- Obtenir diputats"
   ],
   "metadata": {
    "collapsed": false,
    "pycharm": {
     "name": "#%% md\n"
    }
   }
  },
  {
   "cell_type": "code",
   "execution_count": null,
   "outputs": [],
   "source": [
    "def get_deputies(legislature):\n",
    "    url_deputies = \"https://www.congreso.es/busqueda-de-diputados?p_p_id=diputadomodule&p_p_lifecycle=2&p_p_state=normal&p_p_mode=view&p_p_resource_id=searchDiputados&p_p_cacheability=cacheLevelPage\"\n",
    "\n",
    "    payload={'_diputadomodule_idLegislatura': legislature,\n",
    "             '_diputadomodule_genero': '0',\n",
    "             '_diputadomodule_grupo': 'all',\n",
    "             '_diputadomodule_tipo': '2',\n",
    "             '_diputadomodule_nombre': '',\n",
    "             '_diputadomodule_apellidos': '',\n",
    "             '_diputadomodule_formacion': 'all',\n",
    "             '_diputadomodule_filtroProvincias': '[]',\n",
    "             '_diputadomodule_nombreCircunscripcion': ''}\n",
    "\n",
    "    response = requests.request(\"POST\", url_deputies, data=payload)\n",
    "    return response.text"
   ],
   "metadata": {
    "collapsed": false,
    "pycharm": {
     "name": "#%%\n"
    }
   }
  },
  {
   "cell_type": "code",
   "execution_count": null,
   "outputs": [],
   "source": [
    "pkl_path = './.data/deputies.pkl'\n",
    "if isfile(pkl_path):\n",
    "    print('from file')\n",
    "    dp = pd.read_pickle(pkl_path)\n",
    "else:\n",
    "    print('download')\n",
    "    df = None\n",
    "    for current_legislature in legislatures:\n",
    "        data = get_deputies(current_legislature)\n",
    "        data_json = json.loads(data)\n",
    "        if df is None:\n",
    "            df = json_normalize(data_json['data'])\n",
    "        else:\n",
    "            new_df = json_normalize(data_json['data'])\n",
    "            for index, row in new_df.iterrows():\n",
    "                current_row_df = df[(df.apellidosNombre == row['apellidosNombre']) & (df.formacion == row['formacion'])]\n",
    "                if current_row_df.empty:\n",
    "                    df = pd.concat([df, row])\n",
    "                else:\n",
    "                    df.loc[(df.apellidosNombre == row['apellidosNombre']) & (df.formacion == row['formacion']), 'fchBaja'] = row['fchBaja']\n",
    "                    df.loc[(df.apellidosNombre == row['apellidosNombre']) & (df.formacion == row['formacion']), 'idLegislatura'] = f'{current_row_df.iloc[0].idLegislatura},{row[\"idLegislatura\"]}'\n",
    "\n",
    "    df.to_pickle('./.data/deputies.pkl')"
   ],
   "metadata": {
    "collapsed": false,
    "pycharm": {
     "name": "#%%\n"
    }
   }
  },
  {
   "cell_type": "code",
   "execution_count": null,
   "outputs": [],
   "source": [],
   "metadata": {
    "collapsed": false,
    "pycharm": {
     "name": "#%%\n"
    }
   }
  }
 ],
 "metadata": {
  "kernelspec": {
   "display_name": "Python 3",
   "language": "python",
   "name": "python3"
  },
  "language_info": {
   "codemirror_mode": {
    "name": "ipython",
    "version": 2
   },
   "file_extension": ".py",
   "mimetype": "text/x-python",
   "name": "python",
   "nbconvert_exporter": "python",
   "pygments_lexer": "ipython2",
   "version": "2.7.6"
  }
 },
 "nbformat": 4,
 "nbformat_minor": 0
}