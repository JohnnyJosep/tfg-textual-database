{
 "cells": [
  {
   "cell_type": "code",
   "execution_count": 1,
   "outputs": [],
   "source": [
    "from downloadDiaryOfSessions.main import download\n",
    "from rabbitmqSender.main import RabbitSender\n",
    "from googleSync.main import sync_folder\n",
    "\n",
    "import json\n",
    "from os.path import isdir, isfile\n",
    "from os import listdir, makedirs, mkdir\n",
    "import pandas as pd\n",
    "from pandas import json_normalize\n",
    "import requests"
   ],
   "metadata": {
    "collapsed": false,
    "pycharm": {
     "name": "#%%\n"
    }
   }
  },
  {
   "cell_type": "code",
   "execution_count": null,
   "outputs": [],
   "source": [
    "sync_folder()"
   ],
   "metadata": {
    "collapsed": false,
    "pycharm": {
     "name": "#%%\n"
    }
   }
  },
  {
   "cell_type": "markdown",
   "source": [
    "## 1.- Descarregar diaris de sessions"
   ],
   "metadata": {
    "collapsed": false,
    "pycharm": {
     "name": "#%% md\n"
    }
   }
  },
  {
   "cell_type": "code",
   "execution_count": null,
   "outputs": [],
   "source": [
    "legislatures = [11, 12, 13, 14]\n",
    "max_errors = 50\n",
    "data_folder = './.data/'\n",
    "dscd_path = f'{data_folder}diary_session_congress_deputies_pdfs'\n",
    "dss_path = f'{data_folder}diary_session_senate_pdfs'\n",
    "\n",
    "\n",
    "def diary_session_congress_deputies_url(legislature, plenary):\n",
    "    return f\"https://www.congreso.es/public_oficiales/L{legislature}/CONG/DS/PL/DSCD-{legislature}-PL-{plenary}.PDF\"\n",
    "\n",
    "\n",
    "def diary_session_senate_url(legislature, plenary):\n",
    "    return f\"https://www.senado.es/legis{legislature}/publicaciones/pdf/senado/ds/DS_C_{legislature}_{plenary}.PDF\"\n",
    "\n",
    "\n",
    "def download_diary_session(local_path, prefix, diary_session_url):\n",
    "    if not isdir(local_path):\n",
    "        makedirs(local_path)\n",
    "\n",
    "    for current_legislature in legislatures:\n",
    "        current_plenary = 1\n",
    "        consecutive_errors = 0\n",
    "        while consecutive_errors < max_errors:\n",
    "            url = diary_session_url(current_legislature, current_plenary)\n",
    "            file = f\"{prefix}-{current_legislature}-{current_plenary:03d}\"\n",
    "            if download(url, local_path, file):\n",
    "                consecutive_errors = 0\n",
    "            else:\n",
    "                consecutive_errors += 1\n",
    "\n",
    "            current_plenary += 1\n"
   ],
   "metadata": {
    "collapsed": false,
    "pycharm": {
     "name": "#%%\n"
    }
   }
  },
  {
   "cell_type": "markdown",
   "source": [
    "### 1.1.- Diaris de sessions del congress de diputats"
   ],
   "metadata": {
    "collapsed": false,
    "pycharm": {
     "name": "#%% md\n"
    }
   }
  },
  {
   "cell_type": "code",
   "execution_count": null,
   "outputs": [],
   "source": [
    "download_diary_session(dscd_path, 'dscd', diary_session_congress_deputies_url)"
   ],
   "metadata": {
    "collapsed": false,
    "pycharm": {
     "name": "#%%\n"
    }
   }
  },
  {
   "cell_type": "markdown",
   "source": [
    "### 1.2.- Diaris de sessions del senat"
   ],
   "metadata": {
    "collapsed": false,
    "pycharm": {
     "name": "#%% md\n"
    }
   }
  },
  {
   "cell_type": "code",
   "execution_count": null,
   "outputs": [],
   "source": [
    "download_diary_session(dss_path, 'dss', diary_session_senate_url)"
   ],
   "metadata": {
    "collapsed": false,
    "pycharm": {
     "name": "#%%\n"
    }
   }
  },
  {
   "cell_type": "markdown",
   "source": [
    "## 2.- Convertir pagines de pdf a imatges"
   ],
   "metadata": {
    "collapsed": false,
    "pycharm": {
     "name": "#%% md\n"
    }
   }
  },
  {
   "cell_type": "markdown",
   "source": [
    "`docker-compose -f docker-compose-pdf-to-img.yml -p tfg-pdf-to-img up -d`"
   ],
   "metadata": {
    "collapsed": false,
    "pycharm": {
     "name": "#%% md\n"
    }
   }
  },
  {
   "cell_type": "code",
   "execution_count": null,
   "outputs": [],
   "source": [
    "sender = RabbitSender('localhost', 5672, 'myuser', 'mypassword', 'pdf-to-img')\n",
    "\n",
    "for file in listdir(dscd_path):\n",
    "    sender.send(f'{dscd_path}/{file}'[len(data_folder):])\n",
    "\n",
    "for file in listdir(dss_path):\n",
    "    sender.send(f'{dss_path}/{file}'[len(data_folder):])\n",
    "\n",
    "sender.close()"
   ],
   "metadata": {
    "collapsed": false,
    "pycharm": {
     "name": "#%%\n"
    }
   }
  },
  {
   "cell_type": "markdown",
   "source": [
    "[RabbitMQ queues management](http://localhost:15672/#/queues)"
   ],
   "metadata": {
    "collapsed": false,
    "pycharm": {
     "name": "#%% md\n"
    }
   }
  },
  {
   "cell_type": "markdown",
   "source": [
    "## 3.- Convertir imatges a text"
   ],
   "metadata": {
    "collapsed": false,
    "pycharm": {
     "name": "#%% md\n"
    }
   }
  },
  {
   "cell_type": "markdown",
   "source": [
    "`docker-compose -f docker-compose-img-to-txt.yml -p tfg-img-to-txt up -d`"
   ],
   "metadata": {
    "collapsed": false,
    "pycharm": {
     "name": "#%% md\n"
    }
   }
  },
  {
   "cell_type": "code",
   "execution_count": null,
   "outputs": [],
   "source": [
    "sender = RabbitSender('localhost', 5672, 'myuser', 'mypassword', 'img-to-txt')\n",
    "\n",
    "for file in listdir(f'{data_folder}images'):\n",
    "    sender.send(file)\n",
    "\n",
    "sender.close()"
   ],
   "metadata": {
    "collapsed": false,
    "pycharm": {
     "name": "#%%\n"
    }
   }
  },
  {
   "cell_type": "markdown",
   "source": [
    "## 4.- Obtenir diputats"
   ],
   "metadata": {
    "collapsed": false,
    "pycharm": {
     "name": "#%% md\n"
    }
   }
  },
  {
   "cell_type": "code",
   "execution_count": null,
   "outputs": [],
   "source": [
    "def get_deputies(legislature):\n",
    "    url_deputies = \"https://www.congreso.es/busqueda-de-diputados?p_p_id=diputadomodule&p_p_lifecycle=2&p_p_state=normal&p_p_mode=view&p_p_resource_id=searchDiputados&p_p_cacheability=cacheLevelPage\"\n",
    "\n",
    "    payload={'_diputadomodule_idLegislatura': legislature,\n",
    "             '_diputadomodule_genero': '0',\n",
    "             '_diputadomodule_grupo': 'all',\n",
    "             '_diputadomodule_tipo': '2',\n",
    "             '_diputadomodule_nombre': '',\n",
    "             '_diputadomodule_apellidos': '',\n",
    "             '_diputadomodule_formacion': 'all',\n",
    "             '_diputadomodule_filtroProvincias': '[]',\n",
    "             '_diputadomodule_nombreCircunscripcion': ''}\n",
    "\n",
    "    response = requests.request(\"POST\", url_deputies, data=payload)\n",
    "    return response.text"
   ],
   "metadata": {
    "collapsed": false,
    "pycharm": {
     "name": "#%%\n"
    }
   }
  },
  {
   "cell_type": "code",
   "execution_count": null,
   "outputs": [],
   "source": [
    "pkl_path = './.data/deputies.pkl'\n",
    "if isfile(pkl_path):\n",
    "    print('from file')\n",
    "    dp = pd.read_pickle(pkl_path)\n",
    "else:\n",
    "    print('download')\n",
    "    df = None\n",
    "    for current_legislature in legislatures:\n",
    "        data = get_deputies(current_legislature)\n",
    "        data_json = json.loads(data)\n",
    "        if df is None:\n",
    "            df = json_normalize(data_json['data'])\n",
    "        else:\n",
    "            new_df = json_normalize(data_json['data'])\n",
    "            for index, row in new_df.iterrows():\n",
    "                current_row_df = df[(df.apellidosNombre == row['apellidosNombre']) & (df.formacion == row['formacion'])]\n",
    "                if current_row_df.empty:\n",
    "                    df = pd.concat([df, row])\n",
    "                else:\n",
    "                    df.loc[(df.apellidosNombre == row['apellidosNombre']) & (df.formacion == row['formacion']), 'fchBaja'] = row['fchBaja']\n",
    "                    df.loc[(df.apellidosNombre == row['apellidosNombre']) & (df.formacion == row['formacion']), 'idLegislatura'] = f'{current_row_df.iloc[0].idLegislatura},{row[\"idLegislatura\"]}'\n",
    "\n",
    "    df.to_pickle('./.data/deputies.pkl')"
   ],
   "metadata": {
    "collapsed": false,
    "pycharm": {
     "name": "#%%\n"
    }
   }
  },
  {
   "cell_type": "markdown",
   "source": [
    "## 5.- Obtenir discursos"
   ],
   "metadata": {
    "collapsed": false,
    "pycharm": {
     "name": "#%% md\n"
    }
   }
  },
  {
   "cell_type": "code",
   "execution_count": 3,
   "outputs": [
    {
     "name": "stdout",
     "output_type": "stream",
     "text": [
      "error at parse dss-12-016.txt\n",
      "error at parse dss-12-137.txt\n",
      "error at parse dss-12-143.txt\n",
      "error at parse dss-12-145.txt\n",
      "error at parse dss-12-386.txt\n",
      "error at parse dss-12-423.txt\n",
      "error at parse dss-14-073.txt\n",
      "error at parse dss-14-181.txt\n",
      "error at parse dss-14-221.txt\n",
      "error at parse dss-14-334.txt\n",
      "error at parse dss-14-382.txt\n"
     ]
    }
   ],
   "source": [
    "from diaryParser.main import  parse_diary\n",
    "\n",
    "texts_folder_path = './.data/texts'\n",
    "speeches_folder_path = './.data/speeches'\n",
    "\n",
    "if not isdir(speeches_folder_path):\n",
    "    mkdir(speeches_folder_path)\n",
    "\n",
    "text_paths = listdir(texts_folder_path)\n",
    "for text_path in text_paths:\n",
    "    path = f'{texts_folder_path}/{text_path}'\n",
    "    parts = text_path[:-4].split('-')\n",
    "\n",
    "    with open(path, 'r', encoding=\"utf-8\") as file:\n",
    "        text = file.read()\n",
    "        try:\n",
    "            speeches = parse_diary(text, parts[0], int(parts[1]), int(parts[2]))\n",
    "            for speech in speeches:\n",
    "                speech_path = f'{speeches_folder_path}/{text_path[:-4]}-{speech[\"order\"]:03d}.json'\n",
    "                json_speech = json.dumps(speech, indent=4)\n",
    "                with open(speech_path, 'w', encoding='utf-8') as speech_file:\n",
    "                    speech_file.write(json_speech)\n",
    "        except IndexError:\n",
    "            print('error at parse', text_path)\n",
    "            continue"
   ],
   "metadata": {
    "collapsed": false,
    "pycharm": {
     "name": "#%%\n"
    }
   }
  },
  {
   "cell_type": "code",
   "execution_count": null,
   "outputs": [],
   "source": [],
   "metadata": {
    "collapsed": false,
    "pycharm": {
     "name": "#%%\n"
    }
   }
  }
 ],
 "metadata": {
  "kernelspec": {
   "display_name": "Python 3",
   "language": "python",
   "name": "python3"
  },
  "language_info": {
   "codemirror_mode": {
    "name": "ipython",
    "version": 2
   },
   "file_extension": ".py",
   "mimetype": "text/x-python",
   "name": "python",
   "nbconvert_exporter": "python",
   "pygments_lexer": "ipython2",
   "version": "2.7.6"
  }
 },
 "nbformat": 4,
 "nbformat_minor": 0
}