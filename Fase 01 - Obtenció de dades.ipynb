{
 "cells": [
  {
   "cell_type": "markdown",
   "source": [
    "# Fase 01 - Obtenció de dades"
   ],
   "metadata": {
    "collapsed": false,
    "pycharm": {
     "name": "#%% md\n"
    }
   }
  },
  {
   "cell_type": "code",
   "execution_count": 1,
   "outputs": [],
   "source": [
    "from downloadDiaryOfSessions.main import download\n",
    "import json\n",
    "from os.path import basename, isdir, isfile\n",
    "from os import listdir, makedirs\n",
    "import pandas as pd\n",
    "from pandas import json_normalize\n",
    "from pdf2image import convert_from_path\n",
    "import requests\n",
    "import subprocess"
   ],
   "metadata": {
    "collapsed": false,
    "pycharm": {
     "name": "#%%\n"
    }
   }
  },
  {
   "cell_type": "markdown",
   "source": [
    "## 1.- Descarregar diaris de sessions"
   ],
   "metadata": {
    "collapsed": false,
    "pycharm": {
     "name": "#%% md\n"
    }
   }
  },
  {
   "cell_type": "code",
   "execution_count": 2,
   "outputs": [],
   "source": [
    "legislatures = [12, 13, 14]\n",
    "max_errors = 50\n",
    "dscd_path = './.data/diary_session_congress_deputies_pdfs'\n",
    "dss_path = './.data/diary_session_senate_pdfs'\n",
    "\n",
    "def diary_session_congress_deputies_url(legislature, plenary):\n",
    "    return f\"https://www.congreso.es/public_oficiales/L{legislature}/CONG/DS/PL/DSCD-{legislature}-PL-{plenary}.PDF\"\n",
    "\n",
    "def diary_session_senate_url(legislature, plenary):\n",
    "    return f\"https://www.senado.es/legis{legislature}/publicaciones/pdf/senado/ds/DS_C_{legislature}_{plenary}.PDF\""
   ],
   "metadata": {
    "collapsed": false,
    "pycharm": {
     "name": "#%%\n"
    }
   }
  },
  {
   "cell_type": "markdown",
   "source": [
    "### 1.1.- Diaris de sessions del congress de diputats"
   ],
   "metadata": {
    "collapsed": false,
    "pycharm": {
     "name": "#%% md\n"
    }
   }
  },
  {
   "cell_type": "code",
   "execution_count": 3,
   "outputs": [],
   "source": [
    "if not isdir(dscd_path):\n",
    "    makedirs(dscd_path)\n",
    "\n",
    "for current_legislature in legislatures:\n",
    "    current_plenary = 1\n",
    "    consecutive_errors = 0\n",
    "    while consecutive_errors < max_errors:\n",
    "        url = diary_session_congress_deputies_url(current_legislature, current_plenary)\n",
    "        file = f\"dscd-{current_legislature}-{current_plenary:03d}\"\n",
    "        if download(url, dscd_path, file):\n",
    "            consecutive_errors = 0\n",
    "        else:\n",
    "            consecutive_errors += 1\n",
    "\n",
    "        current_plenary += 1"
   ],
   "metadata": {
    "collapsed": false,
    "pycharm": {
     "name": "#%%\n"
    }
   }
  },
  {
   "cell_type": "markdown",
   "source": [
    "### 1.2.- Diaris de sessions del senat"
   ],
   "metadata": {
    "collapsed": false,
    "pycharm": {
     "name": "#%% md\n"
    }
   }
  },
  {
   "cell_type": "code",
   "execution_count": 4,
   "outputs": [],
   "source": [
    "if not isdir(dss_path):\n",
    "    makedirs(dss_path)\n",
    "\n",
    "for current_legislature in legislatures:\n",
    "    current_plenary = 1\n",
    "    consecutive_errors = 0\n",
    "    while consecutive_errors < max_errors:\n",
    "        url = diary_session_senate_url(current_legislature, current_plenary)\n",
    "        file = f\"dss-{current_legislature}-{current_plenary:03d}\"\n",
    "        if download(url, dss_path, file):\n",
    "            consecutive_errors = 0\n",
    "        else:\n",
    "            consecutive_errors += 1\n",
    "\n",
    "        current_plenary += 1"
   ],
   "metadata": {
    "collapsed": false,
    "pycharm": {
     "name": "#%%\n"
    }
   }
  },
  {
   "cell_type": "markdown",
   "source": [
    "## 2.- Convertir pagines de pdf a imatges"
   ],
   "metadata": {
    "collapsed": false,
    "pycharm": {
     "name": "#%% md\n"
    }
   }
  },
  {
   "cell_type": "code",
   "execution_count": 5,
   "outputs": [],
   "source": [
    "left_margin = 175\n",
    "top_header_margin = 790\n",
    "top_regular_margin = 296\n",
    "right_margin = 1480\n",
    "bottom_margin = 2160\n",
    "\n",
    "dscd_files = [f'{dscd_path}/{file}' for file in listdir(dscd_path)]\n",
    "dss_files = [f'{dss_path}/{file}' for file in listdir(dss_path)]\n",
    "paths = dscd_files + dss_files\n",
    "\n",
    "for path in paths:\n",
    "    folder = f'./.data/images/{basename(path)[:-4]}'\n",
    "    if not isdir(folder):\n",
    "        makedirs(folder)\n",
    "    else:\n",
    "        continue\n",
    "    pages = convert_from_path(path)\n",
    "    page_index = 0\n",
    "    for page in pages:\n",
    "        top_margin = top_header_margin if page_index == 0 else top_regular_margin\n",
    "        page\\\n",
    "            .crop((left_margin, top_margin, right_margin, bottom_margin))\\\n",
    "            .save(f'{folder}/{basename(path)[:-4]}-{page_index:03d}.jpeg', 'JPEG')\n",
    "        page_index += 1"
   ],
   "metadata": {
    "collapsed": false,
    "pycharm": {
     "name": "#%%\n"
    }
   }
  },
  {
   "cell_type": "markdown",
   "source": [
    "## 3.- Convertir imatges a text"
   ],
   "metadata": {
    "collapsed": false,
    "pycharm": {
     "name": "#%% md\n"
    }
   }
  },
  {
   "cell_type": "code",
   "execution_count": null,
   "outputs": [
    {
     "name": "stdout",
     "output_type": "stream",
     "text": [
      "Sending build context to Docker daemon   5.12kB\r\n",
      "Step 1/9 : FROM python:3.10.2-alpine\n",
      " ---> 69fba17b9bae\n",
      "Step 2/9 : WORKDIR /usr/src/app\n",
      " ---> Using cache\n",
      " ---> 8e736f63bd8b\n",
      "Step 3/9 : RUN apk update\n",
      " ---> Using cache\n",
      " ---> d08a53d80c74\n",
      "Step 4/9 : RUN /usr/local/bin/python -m pip install --upgrade pip\n",
      " ---> Using cache\n",
      " ---> a4b66a3d1342\n",
      "Step 5/9 : RUN apk add --update tesseract-ocr tesseract-ocr-data-cat tesseract-ocr-data-spa jpeg-dev zlib-dev libjpeg gcc musl-dev poppler poppler-utils\n",
      " ---> Using cache\n",
      " ---> c45b13520167\n",
      "Step 6/9 : COPY requirements.txt ./\n",
      " ---> Using cache\n",
      " ---> 732a484d649b\n",
      "Step 7/9 : RUN pip install --no-cache-dir -r requirements.txt\n",
      " ---> Using cache\n",
      " ---> b3469ec27e4e\n",
      "Step 8/9 : COPY main.py ./\n",
      " ---> Using cache\n",
      " ---> f1d983076fed\n",
      "Step 9/9 : CMD [ \"python\", \"-u\", \"main.py\" ]\n",
      " ---> Using cache\n",
      " ---> e69863026f8e\n",
      "Successfully built e69863026f8e\n",
      "Successfully tagged tfg-ocr:latest\n",
      "Convert /home/images/dscd-12-170/dscd-12-170-060.jpeg to /home/texts/dscd-12-170/dscd-12-170-060.txt\n",
      "Convert /home/images/dscd-12-170/dscd-12-170-052.jpeg to /home/texts/dscd-12-170/dscd-12-170-052.txt\n",
      "Convert /home/images/dscd-12-170/dscd-12-170-037.jpeg to /home/texts/dscd-12-170/dscd-12-170-037.txt\n",
      "Convert /home/images/dscd-12-170/dscd-12-170-046.jpeg to /home/texts/dscd-12-170/dscd-12-170-046.txt\n",
      "Convert /home/images/dscd-12-170/dscd-12-170-038.jpeg to /home/texts/dscd-12-170/dscd-12-170-038.txt\n",
      "Convert /home/images/dscd-12-170/dscd-12-170-056.jpeg to /home/texts/dscd-12-170/dscd-12-170-056.txt\n",
      "Convert /home/images/dscd-12-170/dscd-12-170-053.jpeg to /home/texts/dscd-12-170/dscd-12-170-053.txt\n"
     ]
    }
   ],
   "source": [
    "cmd_docker_build = 'docker build -t tfg-ocr $(pwd)/tesseractOcr'\n",
    "cmd_docker_run = 'docker run -v $(pwd)/.data/images:/home/images -v $(pwd)/.data/texts:/home/texts tfg-ocr'\n",
    "\n",
    "subprocess.call(cmd_docker_build, shell=True)\n",
    "subprocess.call(cmd_docker_run, shell=True)"
   ],
   "metadata": {
    "collapsed": false,
    "pycharm": {
     "name": "#%%\n",
     "is_executing": true
    }
   }
  },
  {
   "cell_type": "code",
   "execution_count": null,
   "outputs": [],
   "source": [
    "all_texts_path = './.data/texts'\n",
    "\n",
    "text_paths = listdir(all_texts_path)\n",
    "for text_path in text_paths:\n",
    "    if isfile(f'{all_texts_path}/{text_path}'):\n",
    "        continue\n",
    "    full_text_path = f'{all_texts_path}/full_{text_path}.txt'\n",
    "    if isfile(full_text_path):\n",
    "        continue\n",
    "\n",
    "    text_pages_paths = sorted(listdir(f'{all_texts_path}/{text_path}'))\n",
    "    with open(full_text_path, 'w') as full_text_file:\n",
    "        for text_page_path in text_pages_paths:\n",
    "            with open(f'{all_texts_path}/{text_path}/{text_page_path}') as page_text_file:\n",
    "                full_text_file.write(page_text_file.read())"
   ],
   "metadata": {
    "collapsed": false,
    "pycharm": {
     "name": "#%%\n"
    }
   }
  },
  {
   "cell_type": "markdown",
   "source": [
    "## 4.- Obtenir diputats"
   ],
   "metadata": {
    "collapsed": false,
    "pycharm": {
     "name": "#%% md\n"
    }
   }
  },
  {
   "cell_type": "code",
   "execution_count": null,
   "outputs": [],
   "source": [
    "def get_deputies(legislature):\n",
    "    url_deputies = \"https://www.congreso.es/busqueda-de-diputados?p_p_id=diputadomodule&p_p_lifecycle=2&p_p_state=normal&p_p_mode=view&p_p_resource_id=searchDiputados&p_p_cacheability=cacheLevelPage\"\n",
    "\n",
    "    payload={'_diputadomodule_idLegislatura': legislature,\n",
    "             '_diputadomodule_genero': '0',\n",
    "             '_diputadomodule_grupo': 'all',\n",
    "             '_diputadomodule_tipo': '2',\n",
    "             '_diputadomodule_nombre': '',\n",
    "             '_diputadomodule_apellidos': '',\n",
    "             '_diputadomodule_formacion': 'all',\n",
    "             '_diputadomodule_filtroProvincias': '[]',\n",
    "             '_diputadomodule_nombreCircunscripcion': ''}\n",
    "\n",
    "    response = requests.request(\"POST\", url_deputies, data=payload)\n",
    "    return response.text"
   ],
   "metadata": {
    "collapsed": false,
    "pycharm": {
     "name": "#%%\n"
    }
   }
  },
  {
   "cell_type": "code",
   "execution_count": null,
   "outputs": [],
   "source": [
    "pkl_path = './.data/deputies.pkl'\n",
    "if isfile(pkl_path):\n",
    "    print('from file')\n",
    "    dp = pd.read_pickle(pkl_path)\n",
    "else:\n",
    "    print('download')\n",
    "    df = None\n",
    "    for current_legislature in legislatures:\n",
    "        data = get_deputies(current_legislature)\n",
    "        data_json = json.loads(data)\n",
    "        if df is None:\n",
    "            df = json_normalize(data_json['data'])\n",
    "        else:\n",
    "            new_df = json_normalize(data_json['data'])\n",
    "            for index, row in new_df.iterrows():\n",
    "                current_row_df = df[(df.apellidosNombre == row['apellidosNombre']) & (df.formacion == row['formacion'])]\n",
    "                if current_row_df.empty:\n",
    "                    df = pd.concat([df, row])\n",
    "                else:\n",
    "                    df.loc[(df.apellidosNombre == row['apellidosNombre']) & (df.formacion == row['formacion']), 'fchBaja'] = row['fchBaja']\n",
    "                    df.loc[(df.apellidosNombre == row['apellidosNombre']) & (df.formacion == row['formacion']), 'idLegislatura'] = f'{current_row_df.iloc[0].idLegislatura},{row[\"idLegislatura\"]}'\n",
    "\n",
    "    df.to_pickle('./.data/deputies.pkl')"
   ],
   "metadata": {
    "collapsed": false,
    "pycharm": {
     "name": "#%%\n"
    }
   }
  },
  {
   "cell_type": "code",
   "execution_count": null,
   "outputs": [],
   "source": [],
   "metadata": {
    "collapsed": false,
    "pycharm": {
     "name": "#%%\n"
    }
   }
  }
 ],
 "metadata": {
  "kernelspec": {
   "display_name": "Python 3",
   "language": "python",
   "name": "python3"
  },
  "language_info": {
   "codemirror_mode": {
    "name": "ipython",
    "version": 2
   },
   "file_extension": ".py",
   "mimetype": "text/x-python",
   "name": "python",
   "nbconvert_exporter": "python",
   "pygments_lexer": "ipython2",
   "version": "2.7.6"
  }
 },
 "nbformat": 4,
 "nbformat_minor": 0
}